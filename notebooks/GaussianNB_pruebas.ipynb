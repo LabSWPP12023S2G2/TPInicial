{
  "nbformat": 4,
  "nbformat_minor": 0,
  "metadata": {
    "colab": {
      "provenance": [],
      "include_colab_link": true
    },
    "kernelspec": {
      "name": "python3",
      "display_name": "Python 3"
    },
    "language_info": {
      "name": "python"
    }
  },
  "cells": [
    {
      "cell_type": "markdown",
      "metadata": {
        "id": "view-in-github",
        "colab_type": "text"
      },
      "source": [
        "<a href=\"https://colab.research.google.com/github/LabSWPP12023S2G2/TPInicial/blob/main/GaussianNB_pruebas.ipynb\" target=\"_parent\"><img src=\"https://colab.research.google.com/assets/colab-badge.svg\" alt=\"Open In Colab\"/></a>"
      ]
    },
    {
      "cell_type": "code",
      "execution_count": null,
      "metadata": {
        "id": "adPIyiK2oeRI"
      },
      "outputs": [],
      "source": [
        "import pandas as pd\n",
        "\n",
        "# Carga tu conjunto de datos en un DataFrame\n",
        "url = 'https://raw.githubusercontent.com/LabSWPP12023S2G2/TPInicial/main/datasetUNC.csv'\n",
        "df = pd.read_csv(url, delimiter=';')\n",
        "\n",
        "# Elimina filas con valores faltantes\n",
        "df.dropna(inplace=True)\n",
        "\n",
        "# Elimina filas con provincias desconocidas\n",
        "df.drop(df[df['EDUCATION'] == 'Otro'].index, inplace=True)\n",
        "df.drop(df[df['PROVINCE'] == 'Otro'].index, inplace=True)\n",
        "df.drop(df[df['PROVINCE'] == 'other'].index, inplace=True)"
      ]
    },
    {
      "cell_type": "code",
      "source": [
        "# Vemos las variables del dataset\n",
        "df.columns"
      ],
      "metadata": {
        "colab": {
          "base_uri": "https://localhost:8080/"
        },
        "id": "f8yhoRoZqy7k",
        "outputId": "30878a24-205a-43e4-e27e-b567f5365c9a"
      },
      "execution_count": null,
      "outputs": [
        {
          "output_type": "execute_result",
          "data": {
            "text/plain": [
              "Index(['SUB PERIODS', 'EDUCATION', 'PROVINCE', 'SEX', 'AGE',\n",
              "       'MENTAL DISORDER HISTORY', 'SUIC ATTEMPT HISTORY',\n",
              "       'LIVING WITH SOMEBODY', 'ECONOMIC INCOME', 'DEPRESSION', 'SUIC RISK',\n",
              "       'ANXIETY STATE', 'ANXIETY TRAIT'],\n",
              "      dtype='object')"
            ]
          },
          "metadata": {},
          "execution_count": 2
        }
      ]
    },
    {
      "cell_type": "code",
      "source": [
        "# Vamos a refinar el dataset con las variables que deseamos\n",
        "variables = ['EDUCATION', 'PROVINCE', 'SEX', 'AGE','MENTAL DISORDER HISTORY', 'SUIC ATTEMPT HISTORY','LIVING WITH SOMEBODY',\n",
        "             'ECONOMIC INCOME', 'DEPRESSION', 'SUIC RISK','ANXIETY STATE', 'ANXIETY TRAIT']"
      ],
      "metadata": {
        "id": "pJNdNWK8rJJE"
      },
      "execution_count": null,
      "outputs": []
    },
    {
      "cell_type": "code",
      "source": [
        "# Refinamos el dataset\n",
        "df_refinado = df[variables]"
      ],
      "metadata": {
        "id": "ASOIXvMTrLJs"
      },
      "execution_count": null,
      "outputs": []
    },
    {
      "cell_type": "code",
      "source": [
        "# Vemos las variables del dataset\n",
        "df_refinado.columns"
      ],
      "metadata": {
        "colab": {
          "base_uri": "https://localhost:8080/"
        },
        "id": "vCn3wzDIrlcU",
        "outputId": "5284bbc8-10b0-418e-b870-686cd2a71809"
      },
      "execution_count": null,
      "outputs": [
        {
          "output_type": "execute_result",
          "data": {
            "text/plain": [
              "Index(['EDUCATION', 'PROVINCE', 'SEX', 'AGE', 'MENTAL DISORDER HISTORY',\n",
              "       'SUIC ATTEMPT HISTORY', 'LIVING WITH SOMEBODY', 'ECONOMIC INCOME',\n",
              "       'DEPRESSION', 'SUIC RISK', 'ANXIETY STATE', 'ANXIETY TRAIT'],\n",
              "      dtype='object')"
            ]
          },
          "metadata": {},
          "execution_count": 5
        }
      ]
    },
    {
      "cell_type": "code",
      "source": [
        "# Muestra los valores únicos de la columna 'EDUCATION'\n",
        "unique_education_values = df_refinado['EDUCATION'].unique()\n",
        "print(unique_education_values)"
      ],
      "metadata": {
        "colab": {
          "base_uri": "https://localhost:8080/"
        },
        "id": "ssDhISMasWd9",
        "outputId": "aae24e34-1888-4b47-b9ea-a768bb164860"
      },
      "execution_count": null,
      "outputs": [
        {
          "output_type": "stream",
          "name": "stdout",
          "text": [
            "['Completed postgraduate' 'Incomplete tertiary or university'\n",
            " 'Completed high school' 'Incomplete postgraduate'\n",
            " 'Completed tertiary or university' 'Incomplete high school'\n",
            " 'Incomplete elementary school' 'Completed elementary school']\n"
          ]
        }
      ]
    },
    {
      "cell_type": "code",
      "source": [
        "# Muestra los valores únicos de la columna 'PROVINCE'\n",
        "unique_province_values = df_refinado['PROVINCE'].unique()\n",
        "print(unique_province_values)"
      ],
      "metadata": {
        "colab": {
          "base_uri": "https://localhost:8080/"
        },
        "id": "jcQPSqootDwl",
        "outputId": "79f3ece7-45a0-4afc-a32c-fcbc4aad20e1"
      },
      "execution_count": null,
      "outputs": [
        {
          "output_type": "stream",
          "name": "stdout",
          "text": [
            "['CABA (Buenos Aires capital)' 'Tierra del Fuego' 'Jujuy' 'Córdoba'\n",
            " 'Misiones' 'Buenos Aires provincia' 'Santa Fe' 'Salta' 'Mendoza'\n",
            " 'Tucumán' 'Neuquén' 'San Luis' 'Entre Ríos' 'Santiago del Estero' 'Chaco'\n",
            " 'San Juan' 'Corrientes' 'Río Negro' 'La Pampa' 'La Rioja' 'Chubut'\n",
            " 'Catamarca' 'Santa Cruz' 'Formosa']\n"
          ]
        }
      ]
    },
    {
      "cell_type": "code",
      "source": [
        "# Muestra los valores únicos de la columna 'SEX'\n",
        "unique_sex_values = df_refinado['SEX'].unique()\n",
        "print(unique_sex_values)\n"
      ],
      "metadata": {
        "colab": {
          "base_uri": "https://localhost:8080/"
        },
        "id": "1i-NL7NxtEEU",
        "outputId": "8fe65464-f5d4-4529-c79f-5eb1b79a54d3"
      },
      "execution_count": null,
      "outputs": [
        {
          "output_type": "stream",
          "name": "stdout",
          "text": [
            "['man' 'woman']\n"
          ]
        }
      ]
    },
    {
      "cell_type": "code",
      "source": [
        "# Muestra los valores únicos de la columna 'SUIC ATTEMPT HISTORY'\n",
        "unique_suic_attempt_history_values = df_refinado['SUIC ATTEMPT HISTORY'].unique()\n",
        "print(unique_suic_attempt_history_values)\n"
      ],
      "metadata": {
        "colab": {
          "base_uri": "https://localhost:8080/"
        },
        "id": "LnqB57XttETE",
        "outputId": "24cafeff-fe43-4e76-97f8-7370faa586e6"
      },
      "execution_count": null,
      "outputs": [
        {
          "output_type": "stream",
          "name": "stdout",
          "text": [
            "['ideation' 'no' 'yes']\n"
          ]
        }
      ]
    },
    {
      "cell_type": "code",
      "source": [
        "# Realiza la codificación one-hot para la columna 'EDUCATION'\n",
        "education_encoded = pd.get_dummies(df_refinado['EDUCATION'], prefix='EDUCATION')\n",
        "\n",
        "# Agrega las columnas codificadas al DataFrame original\n",
        "df_refinado= pd.concat([df_refinado, education_encoded], axis=1)\n",
        "\n",
        "# Elimina la columna original 'EDUCATION'\n",
        "df_refinado.drop('EDUCATION', axis=1, inplace=True)\n"
      ],
      "metadata": {
        "id": "nbOKpKTSwH2N"
      },
      "execution_count": null,
      "outputs": []
    },
    {
      "cell_type": "code",
      "source": [
        "# Realiza la codificación one-hot para la columna 'PROVINCE'\n",
        "province_encoded = pd.get_dummies(df_refinado['PROVINCE'], prefix='PROVINCE')\n",
        "\n",
        "# Agrega las columnas codificadas al DataFrame original\n",
        "df_refinado = pd.concat([df_refinado, province_encoded], axis=1)\n",
        "\n",
        "# Elimina la columna original 'PROVINCE'\n",
        "df_refinado.drop('PROVINCE', axis=1, inplace=True)\n"
      ],
      "metadata": {
        "id": "GAlJyjDIxn29"
      },
      "execution_count": null,
      "outputs": []
    },
    {
      "cell_type": "code",
      "source": [
        "# Realiza la codificación one-hot para la columna 'SEX'\n",
        "sex_encoded = pd.get_dummies(df_refinado['SEX'], prefix='SEX')\n",
        "\n",
        "# Agrega las columnas codificadas al DataFrame original\n",
        "df_refinado = pd.concat([df_refinado, sex_encoded], axis=1)\n",
        "\n",
        "# Elimina la columna original 'SEX'\n",
        "df_refinado.drop('SEX', axis=1, inplace=True)\n"
      ],
      "metadata": {
        "id": "8TwRNcYozD6m"
      },
      "execution_count": null,
      "outputs": []
    },
    {
      "cell_type": "code",
      "source": [
        "# Realiza la codificación one-hot para la columna 'SUIC ATTEMPT HISTORY'\n",
        "suic_attempt_encoded = pd.get_dummies(df_refinado['SUIC ATTEMPT HISTORY'], prefix='SUIC_ATTEMPT')\n",
        "\n",
        "# Agrega las columnas codificadas al DataFrame original\n",
        "df_refinado = pd.concat([df_refinado, suic_attempt_encoded], axis=1)\n",
        "\n",
        "# Elimina la columna original 'SUIC ATTEMPT HISTORY'\n",
        "df_refinado.drop('SUIC ATTEMPT HISTORY', axis=1, inplace=True)\n"
      ],
      "metadata": {
        "id": "H_MCrFVw1QbM"
      },
      "execution_count": null,
      "outputs": []
    },
    {
      "cell_type": "code",
      "source": [
        "# Realiza la codificación one-hot para la columna 'LIVING WITH SOMEBODY'\n",
        "living_with_encoded = pd.get_dummies(df_refinado['LIVING WITH SOMEBODY'], prefix='LIVING_WITH')\n",
        "\n",
        "# Agrega las columnas codificadas al DataFrame original\n",
        "df_refinado = pd.concat([df_refinado, living_with_encoded], axis=1)\n",
        "\n",
        "# Elimina la columna original 'LIVING WITH SOMEBODY'\n",
        "df_refinado.drop('LIVING WITH SOMEBODY', axis=1, inplace=True)\n"
      ],
      "metadata": {
        "id": "dYbalO761TUM"
      },
      "execution_count": null,
      "outputs": []
    },
    {
      "cell_type": "code",
      "source": [
        "# Realiza la codificación one-hot para la columna 'ECONOMIC INCOME'\n",
        "economic_income_encoded = pd.get_dummies(df_refinado['ECONOMIC INCOME'], prefix='ECONOMIC_INCOME')\n",
        "\n",
        "# Agrega las columnas codificadas al DataFrame original\n",
        "df_refinado = pd.concat([df_refinado, economic_income_encoded], axis=1)\n",
        "\n",
        "# Elimina la columna original 'ECONOMIC INCOME'\n",
        "df_refinado.drop('ECONOMIC INCOME', axis=1, inplace=True)\n"
      ],
      "metadata": {
        "id": "2afOKyFI3N0W"
      },
      "execution_count": null,
      "outputs": []
    },
    {
      "cell_type": "code",
      "source": [
        "# Realiza la codificación one-hot para la columna 'MENTAL DISORDER HISTORY'\n",
        "mental_disorder_encoded = pd.get_dummies(df_refinado['MENTAL DISORDER HISTORY'], prefix='MENTAL_DISORDER')\n",
        "\n",
        "# Agrega las columnas codificadas al DataFrame original\n",
        "df_refinado = pd.concat([df_refinado, mental_disorder_encoded], axis=1)\n",
        "\n",
        "# Elimina la columna original 'MENTAL DISORDER HISTORY'\n",
        "df_refinado.drop('MENTAL DISORDER HISTORY', axis=1, inplace=True)\n",
        "\n",
        "# Muestra el DataFrame con las columnas codificadas\n",
        "print(df_refinado)"
      ],
      "metadata": {
        "colab": {
          "base_uri": "https://localhost:8080/"
        },
        "id": "gV0QTTJL3N9V",
        "outputId": "3d9e08c2-7ccf-4ea0-bf69-6ecbbb7d82d3"
      },
      "execution_count": null,
      "outputs": [
        {
          "output_type": "stream",
          "name": "stdout",
          "text": [
            "      AGE  DEPRESSION  SUIC RISK  ANXIETY STATE  ANXIETY TRAIT  \\\n",
            "0      30          21         37             54             40   \n",
            "1      30          26         46             34             36   \n",
            "2      39           8         21             33             29   \n",
            "3      36          27         70             42             48   \n",
            "5      35           9          4             25             12   \n",
            "...   ...         ...        ...            ...            ...   \n",
            "1095   28          41         80             51             47   \n",
            "1096   39          10         19             31             25   \n",
            "1097   22           7         25             27             24   \n",
            "1098   31           6         30             14             20   \n",
            "1099   29          42         56             44             37   \n",
            "\n",
            "      EDUCATION_Completed elementary school  EDUCATION_Completed high school  \\\n",
            "0                                         0                                0   \n",
            "1                                         0                                0   \n",
            "2                                         0                                1   \n",
            "3                                         0                                0   \n",
            "5                                         0                                0   \n",
            "...                                     ...                              ...   \n",
            "1095                                      0                                0   \n",
            "1096                                      0                                0   \n",
            "1097                                      0                                0   \n",
            "1098                                      0                                0   \n",
            "1099                                      0                                0   \n",
            "\n",
            "      EDUCATION_Completed postgraduate  \\\n",
            "0                                    1   \n",
            "1                                    0   \n",
            "2                                    0   \n",
            "3                                    0   \n",
            "5                                    1   \n",
            "...                                ...   \n",
            "1095                                 1   \n",
            "1096                                 0   \n",
            "1097                                 0   \n",
            "1098                                 0   \n",
            "1099                                 0   \n",
            "\n",
            "      EDUCATION_Completed tertiary or university  \\\n",
            "0                                              0   \n",
            "1                                              0   \n",
            "2                                              0   \n",
            "3                                              0   \n",
            "5                                              0   \n",
            "...                                          ...   \n",
            "1095                                           0   \n",
            "1096                                           1   \n",
            "1097                                           0   \n",
            "1098                                           0   \n",
            "1099                                           0   \n",
            "\n",
            "      EDUCATION_Incomplete elementary school  ...  SEX_woman  \\\n",
            "0                                          0  ...          0   \n",
            "1                                          0  ...          1   \n",
            "2                                          0  ...          0   \n",
            "3                                          0  ...          1   \n",
            "5                                          0  ...          1   \n",
            "...                                      ...  ...        ...   \n",
            "1095                                       0  ...          1   \n",
            "1096                                       0  ...          0   \n",
            "1097                                       0  ...          1   \n",
            "1098                                       0  ...          0   \n",
            "1099                                       0  ...          1   \n",
            "\n",
            "      SUIC_ATTEMPT_ideation  SUIC_ATTEMPT_no  SUIC_ATTEMPT_yes  \\\n",
            "0                         1                0                 0   \n",
            "1                         1                0                 0   \n",
            "2                         0                1                 0   \n",
            "3                         0                1                 0   \n",
            "5                         0                1                 0   \n",
            "...                     ...              ...               ...   \n",
            "1095                      0                0                 1   \n",
            "1096                      0                1                 0   \n",
            "1097                      0                1                 0   \n",
            "1098                      0                1                 0   \n",
            "1099                      1                0                 0   \n",
            "\n",
            "      LIVING_WITH_no  LIVING_WITH_yes  ECONOMIC_INCOME_no  \\\n",
            "0                  1                0                   0   \n",
            "1                  0                1                   0   \n",
            "2                  1                0                   0   \n",
            "3                  0                1                   1   \n",
            "5                  0                1                   0   \n",
            "...              ...              ...                 ...   \n",
            "1095               0                1                   0   \n",
            "1096               0                1                   0   \n",
            "1097               0                1                   0   \n",
            "1098               0                1                   0   \n",
            "1099               0                1                   0   \n",
            "\n",
            "      ECONOMIC_INCOME_yes  MENTAL_DISORDER_no  MENTAL_DISORDER_yes  \n",
            "0                       1                   1                    0  \n",
            "1                       1                   1                    0  \n",
            "2                       1                   0                    1  \n",
            "3                       0                   1                    0  \n",
            "5                       1                   1                    0  \n",
            "...                   ...                 ...                  ...  \n",
            "1095                    1                   1                    0  \n",
            "1096                    1                   1                    0  \n",
            "1097                    1                   1                    0  \n",
            "1098                    1                   1                    0  \n",
            "1099                    1                   1                    0  \n",
            "\n",
            "[1077 rows x 48 columns]\n"
          ]
        }
      ]
    },
    {
      "cell_type": "code",
      "source": [
        "#todo codificado"
      ],
      "metadata": {
        "id": "WoEK-pM-4Xkt"
      },
      "execution_count": null,
      "outputs": []
    },
    {
      "cell_type": "code",
      "source": [
        "#import para separar en trin y test\n",
        "from sklearn.model_selection import train_test_split\n",
        "\n",
        "# Divide el DataFrame en conjuntos de entrenamiento y prueba\n",
        "train_df, test_df = train_test_split(df_refinado, test_size=0.3, random_state=42)"
      ],
      "metadata": {
        "id": "BQzo6dW55lht"
      },
      "execution_count": null,
      "outputs": []
    },
    {
      "cell_type": "code",
      "source": [
        "from sklearn.linear_model import LogisticRegression  #regresión logística\n",
        "from sklearn.metrics import accuracy_score, classification_report, confusion_matrix\n"
      ],
      "metadata": {
        "id": "Ak5ztNkq6Uqu"
      },
      "execution_count": null,
      "outputs": []
    },
    {
      "cell_type": "code",
      "source": [
        "#averiguar el nombre de todas las columnas actuales"
      ],
      "metadata": {
        "id": "APychtU39uq9"
      },
      "execution_count": null,
      "outputs": []
    },
    {
      "cell_type": "code",
      "source": [
        "# Selecciona un algoritmo y entrena el modelo\n",
        "\n",
        "model = LogisticRegression(max_iter=10000)  # Ejemplo con regresión logística\n",
        "target = 'SUIC RISK'  # Variable objetivo\n",
        "features = df_refinado.columns  # Selecciona características\n",
        "\n",
        "# Crea el objeto StandardScaler\n",
        "from sklearn.preprocessing import StandardScaler\n",
        "scaler = StandardScaler()\n",
        "\n",
        "# Ajusta el escalador a las características de entrenamiento y transforma los datos\n",
        "train_scaled = scaler.fit_transform(train_df[features])\n",
        "\n",
        "# Ahora 'train_scaled' contiene las características escaladas\n",
        "\n",
        "# Luego, transforma los datos de prueba utilizando el mismo escalador\n",
        "test_scaled = scaler.transform(test_df[features])\n",
        "\n",
        "# Ahora 'test_scaled' contiene las características escaladas para el conjunto de prueba\n",
        "\n",
        "# Luego, entrena tu modelo en los datos escalados de entrenamiento\n",
        "model.fit(train_scaled, train_df[target])"
      ],
      "metadata": {
        "colab": {
          "base_uri": "https://localhost:8080/",
          "height": 75
        },
        "id": "SerbiIXP6Utt",
        "outputId": "4a41fad6-79eb-4468-d479-a593e7301a8f"
      },
      "execution_count": null,
      "outputs": [
        {
          "output_type": "execute_result",
          "data": {
            "text/plain": [
              "LogisticRegression(max_iter=10000)"
            ],
            "text/html": [
              "<style>#sk-container-id-1 {color: black;background-color: white;}#sk-container-id-1 pre{padding: 0;}#sk-container-id-1 div.sk-toggleable {background-color: white;}#sk-container-id-1 label.sk-toggleable__label {cursor: pointer;display: block;width: 100%;margin-bottom: 0;padding: 0.3em;box-sizing: border-box;text-align: center;}#sk-container-id-1 label.sk-toggleable__label-arrow:before {content: \"▸\";float: left;margin-right: 0.25em;color: #696969;}#sk-container-id-1 label.sk-toggleable__label-arrow:hover:before {color: black;}#sk-container-id-1 div.sk-estimator:hover label.sk-toggleable__label-arrow:before {color: black;}#sk-container-id-1 div.sk-toggleable__content {max-height: 0;max-width: 0;overflow: hidden;text-align: left;background-color: #f0f8ff;}#sk-container-id-1 div.sk-toggleable__content pre {margin: 0.2em;color: black;border-radius: 0.25em;background-color: #f0f8ff;}#sk-container-id-1 input.sk-toggleable__control:checked~div.sk-toggleable__content {max-height: 200px;max-width: 100%;overflow: auto;}#sk-container-id-1 input.sk-toggleable__control:checked~label.sk-toggleable__label-arrow:before {content: \"▾\";}#sk-container-id-1 div.sk-estimator input.sk-toggleable__control:checked~label.sk-toggleable__label {background-color: #d4ebff;}#sk-container-id-1 div.sk-label input.sk-toggleable__control:checked~label.sk-toggleable__label {background-color: #d4ebff;}#sk-container-id-1 input.sk-hidden--visually {border: 0;clip: rect(1px 1px 1px 1px);clip: rect(1px, 1px, 1px, 1px);height: 1px;margin: -1px;overflow: hidden;padding: 0;position: absolute;width: 1px;}#sk-container-id-1 div.sk-estimator {font-family: monospace;background-color: #f0f8ff;border: 1px dotted black;border-radius: 0.25em;box-sizing: border-box;margin-bottom: 0.5em;}#sk-container-id-1 div.sk-estimator:hover {background-color: #d4ebff;}#sk-container-id-1 div.sk-parallel-item::after {content: \"\";width: 100%;border-bottom: 1px solid gray;flex-grow: 1;}#sk-container-id-1 div.sk-label:hover label.sk-toggleable__label {background-color: #d4ebff;}#sk-container-id-1 div.sk-serial::before {content: \"\";position: absolute;border-left: 1px solid gray;box-sizing: border-box;top: 0;bottom: 0;left: 50%;z-index: 0;}#sk-container-id-1 div.sk-serial {display: flex;flex-direction: column;align-items: center;background-color: white;padding-right: 0.2em;padding-left: 0.2em;position: relative;}#sk-container-id-1 div.sk-item {position: relative;z-index: 1;}#sk-container-id-1 div.sk-parallel {display: flex;align-items: stretch;justify-content: center;background-color: white;position: relative;}#sk-container-id-1 div.sk-item::before, #sk-container-id-1 div.sk-parallel-item::before {content: \"\";position: absolute;border-left: 1px solid gray;box-sizing: border-box;top: 0;bottom: 0;left: 50%;z-index: -1;}#sk-container-id-1 div.sk-parallel-item {display: flex;flex-direction: column;z-index: 1;position: relative;background-color: white;}#sk-container-id-1 div.sk-parallel-item:first-child::after {align-self: flex-end;width: 50%;}#sk-container-id-1 div.sk-parallel-item:last-child::after {align-self: flex-start;width: 50%;}#sk-container-id-1 div.sk-parallel-item:only-child::after {width: 0;}#sk-container-id-1 div.sk-dashed-wrapped {border: 1px dashed gray;margin: 0 0.4em 0.5em 0.4em;box-sizing: border-box;padding-bottom: 0.4em;background-color: white;}#sk-container-id-1 div.sk-label label {font-family: monospace;font-weight: bold;display: inline-block;line-height: 1.2em;}#sk-container-id-1 div.sk-label-container {text-align: center;}#sk-container-id-1 div.sk-container {/* jupyter's `normalize.less` sets `[hidden] { display: none; }` but bootstrap.min.css set `[hidden] { display: none !important; }` so we also need the `!important` here to be able to override the default hidden behavior on the sphinx rendered scikit-learn.org. See: https://github.com/scikit-learn/scikit-learn/issues/21755 */display: inline-block !important;position: relative;}#sk-container-id-1 div.sk-text-repr-fallback {display: none;}</style><div id=\"sk-container-id-1\" class=\"sk-top-container\"><div class=\"sk-text-repr-fallback\"><pre>LogisticRegression(max_iter=10000)</pre><b>In a Jupyter environment, please rerun this cell to show the HTML representation or trust the notebook. <br />On GitHub, the HTML representation is unable to render, please try loading this page with nbviewer.org.</b></div><div class=\"sk-container\" hidden><div class=\"sk-item\"><div class=\"sk-estimator sk-toggleable\"><input class=\"sk-toggleable__control sk-hidden--visually\" id=\"sk-estimator-id-1\" type=\"checkbox\" checked><label for=\"sk-estimator-id-1\" class=\"sk-toggleable__label sk-toggleable__label-arrow\">LogisticRegression</label><div class=\"sk-toggleable__content\"><pre>LogisticRegression(max_iter=10000)</pre></div></div></div></div></div>"
            ]
          },
          "metadata": {},
          "execution_count": 21
        }
      ]
    },
    {
      "cell_type": "code",
      "source": [
        "from sklearn.ensemble import RandomForestClassifier\n",
        "\n",
        "# Crear el modelo de Random Forest\n",
        "model = RandomForestClassifier(n_estimators=500, random_state=41)  # Se utilizan 100 árboles\n",
        "\n",
        "target = 'SUIC RISK'  # Variable objetivo\n",
        "features = df_refinado.columns  # Selecciona características\n",
        "\n",
        "# Entrenar tu modelo de Random Forest en los datos de entrenamiento sin escalado\n",
        "model.fit(train_df[features], train_df[target])"
      ],
      "metadata": {
        "colab": {
          "base_uri": "https://localhost:8080/",
          "height": 75
        },
        "id": "mLCGns1KKqoH",
        "outputId": "14e87228-3862-433c-e7ab-e0d0e5845a09"
      },
      "execution_count": null,
      "outputs": [
        {
          "output_type": "execute_result",
          "data": {
            "text/plain": [
              "RandomForestClassifier(n_estimators=500, random_state=41)"
            ],
            "text/html": [
              "<style>#sk-container-id-2 {color: black;background-color: white;}#sk-container-id-2 pre{padding: 0;}#sk-container-id-2 div.sk-toggleable {background-color: white;}#sk-container-id-2 label.sk-toggleable__label {cursor: pointer;display: block;width: 100%;margin-bottom: 0;padding: 0.3em;box-sizing: border-box;text-align: center;}#sk-container-id-2 label.sk-toggleable__label-arrow:before {content: \"▸\";float: left;margin-right: 0.25em;color: #696969;}#sk-container-id-2 label.sk-toggleable__label-arrow:hover:before {color: black;}#sk-container-id-2 div.sk-estimator:hover label.sk-toggleable__label-arrow:before {color: black;}#sk-container-id-2 div.sk-toggleable__content {max-height: 0;max-width: 0;overflow: hidden;text-align: left;background-color: #f0f8ff;}#sk-container-id-2 div.sk-toggleable__content pre {margin: 0.2em;color: black;border-radius: 0.25em;background-color: #f0f8ff;}#sk-container-id-2 input.sk-toggleable__control:checked~div.sk-toggleable__content {max-height: 200px;max-width: 100%;overflow: auto;}#sk-container-id-2 input.sk-toggleable__control:checked~label.sk-toggleable__label-arrow:before {content: \"▾\";}#sk-container-id-2 div.sk-estimator input.sk-toggleable__control:checked~label.sk-toggleable__label {background-color: #d4ebff;}#sk-container-id-2 div.sk-label input.sk-toggleable__control:checked~label.sk-toggleable__label {background-color: #d4ebff;}#sk-container-id-2 input.sk-hidden--visually {border: 0;clip: rect(1px 1px 1px 1px);clip: rect(1px, 1px, 1px, 1px);height: 1px;margin: -1px;overflow: hidden;padding: 0;position: absolute;width: 1px;}#sk-container-id-2 div.sk-estimator {font-family: monospace;background-color: #f0f8ff;border: 1px dotted black;border-radius: 0.25em;box-sizing: border-box;margin-bottom: 0.5em;}#sk-container-id-2 div.sk-estimator:hover {background-color: #d4ebff;}#sk-container-id-2 div.sk-parallel-item::after {content: \"\";width: 100%;border-bottom: 1px solid gray;flex-grow: 1;}#sk-container-id-2 div.sk-label:hover label.sk-toggleable__label {background-color: #d4ebff;}#sk-container-id-2 div.sk-serial::before {content: \"\";position: absolute;border-left: 1px solid gray;box-sizing: border-box;top: 0;bottom: 0;left: 50%;z-index: 0;}#sk-container-id-2 div.sk-serial {display: flex;flex-direction: column;align-items: center;background-color: white;padding-right: 0.2em;padding-left: 0.2em;position: relative;}#sk-container-id-2 div.sk-item {position: relative;z-index: 1;}#sk-container-id-2 div.sk-parallel {display: flex;align-items: stretch;justify-content: center;background-color: white;position: relative;}#sk-container-id-2 div.sk-item::before, #sk-container-id-2 div.sk-parallel-item::before {content: \"\";position: absolute;border-left: 1px solid gray;box-sizing: border-box;top: 0;bottom: 0;left: 50%;z-index: -1;}#sk-container-id-2 div.sk-parallel-item {display: flex;flex-direction: column;z-index: 1;position: relative;background-color: white;}#sk-container-id-2 div.sk-parallel-item:first-child::after {align-self: flex-end;width: 50%;}#sk-container-id-2 div.sk-parallel-item:last-child::after {align-self: flex-start;width: 50%;}#sk-container-id-2 div.sk-parallel-item:only-child::after {width: 0;}#sk-container-id-2 div.sk-dashed-wrapped {border: 1px dashed gray;margin: 0 0.4em 0.5em 0.4em;box-sizing: border-box;padding-bottom: 0.4em;background-color: white;}#sk-container-id-2 div.sk-label label {font-family: monospace;font-weight: bold;display: inline-block;line-height: 1.2em;}#sk-container-id-2 div.sk-label-container {text-align: center;}#sk-container-id-2 div.sk-container {/* jupyter's `normalize.less` sets `[hidden] { display: none; }` but bootstrap.min.css set `[hidden] { display: none !important; }` so we also need the `!important` here to be able to override the default hidden behavior on the sphinx rendered scikit-learn.org. See: https://github.com/scikit-learn/scikit-learn/issues/21755 */display: inline-block !important;position: relative;}#sk-container-id-2 div.sk-text-repr-fallback {display: none;}</style><div id=\"sk-container-id-2\" class=\"sk-top-container\"><div class=\"sk-text-repr-fallback\"><pre>RandomForestClassifier(n_estimators=500, random_state=41)</pre><b>In a Jupyter environment, please rerun this cell to show the HTML representation or trust the notebook. <br />On GitHub, the HTML representation is unable to render, please try loading this page with nbviewer.org.</b></div><div class=\"sk-container\" hidden><div class=\"sk-item\"><div class=\"sk-estimator sk-toggleable\"><input class=\"sk-toggleable__control sk-hidden--visually\" id=\"sk-estimator-id-2\" type=\"checkbox\" checked><label for=\"sk-estimator-id-2\" class=\"sk-toggleable__label sk-toggleable__label-arrow\">RandomForestClassifier</label><div class=\"sk-toggleable__content\"><pre>RandomForestClassifier(n_estimators=500, random_state=41)</pre></div></div></div></div></div>"
            ]
          },
          "metadata": {},
          "execution_count": 22
        }
      ]
    },
    {
      "cell_type": "code",
      "source": [
        "from sklearn.naive_bayes import GaussianNB\n",
        "\n",
        "# Crear el modelo Naive Bayes\n",
        "model = GaussianNB()\n",
        "\n",
        "target = 'SUIC RISK'  # Variable objetivo\n",
        "features = df_refinado.columns # Selecciona características\n",
        "\n",
        "# Entrenar tu modelo Naive Bayes en los datos de entrenamiento\n",
        "model.fit(train_df[features], train_df[target])\n"
      ],
      "metadata": {
        "colab": {
          "base_uri": "https://localhost:8080/",
          "height": 75
        },
        "id": "M3n0qPn8NcD_",
        "outputId": "13ea67f7-8f24-430c-c313-1b2ddcc96e6c"
      },
      "execution_count": null,
      "outputs": [
        {
          "output_type": "execute_result",
          "data": {
            "text/plain": [
              "GaussianNB()"
            ],
            "text/html": [
              "<style>#sk-container-id-3 {color: black;background-color: white;}#sk-container-id-3 pre{padding: 0;}#sk-container-id-3 div.sk-toggleable {background-color: white;}#sk-container-id-3 label.sk-toggleable__label {cursor: pointer;display: block;width: 100%;margin-bottom: 0;padding: 0.3em;box-sizing: border-box;text-align: center;}#sk-container-id-3 label.sk-toggleable__label-arrow:before {content: \"▸\";float: left;margin-right: 0.25em;color: #696969;}#sk-container-id-3 label.sk-toggleable__label-arrow:hover:before {color: black;}#sk-container-id-3 div.sk-estimator:hover label.sk-toggleable__label-arrow:before {color: black;}#sk-container-id-3 div.sk-toggleable__content {max-height: 0;max-width: 0;overflow: hidden;text-align: left;background-color: #f0f8ff;}#sk-container-id-3 div.sk-toggleable__content pre {margin: 0.2em;color: black;border-radius: 0.25em;background-color: #f0f8ff;}#sk-container-id-3 input.sk-toggleable__control:checked~div.sk-toggleable__content {max-height: 200px;max-width: 100%;overflow: auto;}#sk-container-id-3 input.sk-toggleable__control:checked~label.sk-toggleable__label-arrow:before {content: \"▾\";}#sk-container-id-3 div.sk-estimator input.sk-toggleable__control:checked~label.sk-toggleable__label {background-color: #d4ebff;}#sk-container-id-3 div.sk-label input.sk-toggleable__control:checked~label.sk-toggleable__label {background-color: #d4ebff;}#sk-container-id-3 input.sk-hidden--visually {border: 0;clip: rect(1px 1px 1px 1px);clip: rect(1px, 1px, 1px, 1px);height: 1px;margin: -1px;overflow: hidden;padding: 0;position: absolute;width: 1px;}#sk-container-id-3 div.sk-estimator {font-family: monospace;background-color: #f0f8ff;border: 1px dotted black;border-radius: 0.25em;box-sizing: border-box;margin-bottom: 0.5em;}#sk-container-id-3 div.sk-estimator:hover {background-color: #d4ebff;}#sk-container-id-3 div.sk-parallel-item::after {content: \"\";width: 100%;border-bottom: 1px solid gray;flex-grow: 1;}#sk-container-id-3 div.sk-label:hover label.sk-toggleable__label {background-color: #d4ebff;}#sk-container-id-3 div.sk-serial::before {content: \"\";position: absolute;border-left: 1px solid gray;box-sizing: border-box;top: 0;bottom: 0;left: 50%;z-index: 0;}#sk-container-id-3 div.sk-serial {display: flex;flex-direction: column;align-items: center;background-color: white;padding-right: 0.2em;padding-left: 0.2em;position: relative;}#sk-container-id-3 div.sk-item {position: relative;z-index: 1;}#sk-container-id-3 div.sk-parallel {display: flex;align-items: stretch;justify-content: center;background-color: white;position: relative;}#sk-container-id-3 div.sk-item::before, #sk-container-id-3 div.sk-parallel-item::before {content: \"\";position: absolute;border-left: 1px solid gray;box-sizing: border-box;top: 0;bottom: 0;left: 50%;z-index: -1;}#sk-container-id-3 div.sk-parallel-item {display: flex;flex-direction: column;z-index: 1;position: relative;background-color: white;}#sk-container-id-3 div.sk-parallel-item:first-child::after {align-self: flex-end;width: 50%;}#sk-container-id-3 div.sk-parallel-item:last-child::after {align-self: flex-start;width: 50%;}#sk-container-id-3 div.sk-parallel-item:only-child::after {width: 0;}#sk-container-id-3 div.sk-dashed-wrapped {border: 1px dashed gray;margin: 0 0.4em 0.5em 0.4em;box-sizing: border-box;padding-bottom: 0.4em;background-color: white;}#sk-container-id-3 div.sk-label label {font-family: monospace;font-weight: bold;display: inline-block;line-height: 1.2em;}#sk-container-id-3 div.sk-label-container {text-align: center;}#sk-container-id-3 div.sk-container {/* jupyter's `normalize.less` sets `[hidden] { display: none; }` but bootstrap.min.css set `[hidden] { display: none !important; }` so we also need the `!important` here to be able to override the default hidden behavior on the sphinx rendered scikit-learn.org. See: https://github.com/scikit-learn/scikit-learn/issues/21755 */display: inline-block !important;position: relative;}#sk-container-id-3 div.sk-text-repr-fallback {display: none;}</style><div id=\"sk-container-id-3\" class=\"sk-top-container\"><div class=\"sk-text-repr-fallback\"><pre>GaussianNB()</pre><b>In a Jupyter environment, please rerun this cell to show the HTML representation or trust the notebook. <br />On GitHub, the HTML representation is unable to render, please try loading this page with nbviewer.org.</b></div><div class=\"sk-container\" hidden><div class=\"sk-item\"><div class=\"sk-estimator sk-toggleable\"><input class=\"sk-toggleable__control sk-hidden--visually\" id=\"sk-estimator-id-3\" type=\"checkbox\" checked><label for=\"sk-estimator-id-3\" class=\"sk-toggleable__label sk-toggleable__label-arrow\">GaussianNB</label><div class=\"sk-toggleable__content\"><pre>GaussianNB()</pre></div></div></div></div></div>"
            ]
          },
          "metadata": {},
          "execution_count": 23
        }
      ]
    },
    {
      "cell_type": "code",
      "source": [
        "import xgboost as xgb\n",
        "\n",
        "# Crear el modelo XGBoost\n",
        "model = xgb.XGBClassifier()\n",
        "\n",
        "target =  'SUIC RISK' # Variable objetivo\n",
        "features = df_refinado.columns.drop(target)  # Selecciona características, excluyendo la variable objetivo\n",
        "\n",
        "# Entrenar tu modelo XGBoost en los datos de entrenamiento\n",
        "model.fit(train_df[features], train_df[target])\n"
      ],
      "metadata": {
        "colab": {
          "base_uri": "https://localhost:8080/",
          "height": 477
        },
        "id": "_P4h4DTRS3bf",
        "outputId": "e2ce0417-37e8-479f-a504-5fae9d9d61fb"
      },
      "execution_count": null,
      "outputs": [
        {
          "output_type": "error",
          "ename": "ValueError",
          "evalue": "ignored",
          "traceback": [
            "\u001b[0;31m---------------------------------------------------------------------------\u001b[0m",
            "\u001b[0;31mValueError\u001b[0m                                Traceback (most recent call last)",
            "\u001b[0;32m<ipython-input-24-2b5c2dd7fffc>\u001b[0m in \u001b[0;36m<cell line: 10>\u001b[0;34m()\u001b[0m\n\u001b[1;32m      8\u001b[0m \u001b[0;34m\u001b[0m\u001b[0m\n\u001b[1;32m      9\u001b[0m \u001b[0;31m# Entrenar tu modelo XGBoost en los datos de entrenamiento\u001b[0m\u001b[0;34m\u001b[0m\u001b[0;34m\u001b[0m\u001b[0m\n\u001b[0;32m---> 10\u001b[0;31m \u001b[0mmodel\u001b[0m\u001b[0;34m.\u001b[0m\u001b[0mfit\u001b[0m\u001b[0;34m(\u001b[0m\u001b[0mtrain_df\u001b[0m\u001b[0;34m[\u001b[0m\u001b[0mfeatures\u001b[0m\u001b[0;34m]\u001b[0m\u001b[0;34m,\u001b[0m \u001b[0mtrain_df\u001b[0m\u001b[0;34m[\u001b[0m\u001b[0mtarget\u001b[0m\u001b[0;34m]\u001b[0m\u001b[0;34m)\u001b[0m\u001b[0;34m\u001b[0m\u001b[0;34m\u001b[0m\u001b[0m\n\u001b[0m",
            "\u001b[0;32m/usr/local/lib/python3.10/dist-packages/xgboost/core.py\u001b[0m in \u001b[0;36minner_f\u001b[0;34m(*args, **kwargs)\u001b[0m\n\u001b[1;32m    618\u001b[0m             \u001b[0;32mfor\u001b[0m \u001b[0mk\u001b[0m\u001b[0;34m,\u001b[0m \u001b[0marg\u001b[0m \u001b[0;32min\u001b[0m \u001b[0mzip\u001b[0m\u001b[0;34m(\u001b[0m\u001b[0msig\u001b[0m\u001b[0;34m.\u001b[0m\u001b[0mparameters\u001b[0m\u001b[0;34m,\u001b[0m \u001b[0margs\u001b[0m\u001b[0;34m)\u001b[0m\u001b[0;34m:\u001b[0m\u001b[0;34m\u001b[0m\u001b[0;34m\u001b[0m\u001b[0m\n\u001b[1;32m    619\u001b[0m                 \u001b[0mkwargs\u001b[0m\u001b[0;34m[\u001b[0m\u001b[0mk\u001b[0m\u001b[0;34m]\u001b[0m \u001b[0;34m=\u001b[0m \u001b[0marg\u001b[0m\u001b[0;34m\u001b[0m\u001b[0;34m\u001b[0m\u001b[0m\n\u001b[0;32m--> 620\u001b[0;31m             \u001b[0;32mreturn\u001b[0m \u001b[0mfunc\u001b[0m\u001b[0;34m(\u001b[0m\u001b[0;34m**\u001b[0m\u001b[0mkwargs\u001b[0m\u001b[0;34m)\u001b[0m\u001b[0;34m\u001b[0m\u001b[0;34m\u001b[0m\u001b[0m\n\u001b[0m\u001b[1;32m    621\u001b[0m \u001b[0;34m\u001b[0m\u001b[0m\n\u001b[1;32m    622\u001b[0m         \u001b[0;32mreturn\u001b[0m \u001b[0minner_f\u001b[0m\u001b[0;34m\u001b[0m\u001b[0;34m\u001b[0m\u001b[0m\n",
            "\u001b[0;32m/usr/local/lib/python3.10/dist-packages/xgboost/sklearn.py\u001b[0m in \u001b[0;36mfit\u001b[0;34m(self, X, y, sample_weight, base_margin, eval_set, eval_metric, early_stopping_rounds, verbose, xgb_model, sample_weight_eval_set, base_margin_eval_set, feature_weights, callbacks)\u001b[0m\n\u001b[1;32m   1438\u001b[0m                 \u001b[0;32mor\u001b[0m \u001b[0;32mnot\u001b[0m \u001b[0;34m(\u001b[0m\u001b[0mself\u001b[0m\u001b[0;34m.\u001b[0m\u001b[0mclasses_\u001b[0m \u001b[0;34m==\u001b[0m \u001b[0mexpected_classes\u001b[0m\u001b[0;34m)\u001b[0m\u001b[0;34m.\u001b[0m\u001b[0mall\u001b[0m\u001b[0;34m(\u001b[0m\u001b[0;34m)\u001b[0m\u001b[0;34m\u001b[0m\u001b[0;34m\u001b[0m\u001b[0m\n\u001b[1;32m   1439\u001b[0m             ):\n\u001b[0;32m-> 1440\u001b[0;31m                 raise ValueError(\n\u001b[0m\u001b[1;32m   1441\u001b[0m                     \u001b[0;34mf\"Invalid classes inferred from unique values of `y`.  \"\u001b[0m\u001b[0;34m\u001b[0m\u001b[0;34m\u001b[0m\u001b[0m\n\u001b[1;32m   1442\u001b[0m                     \u001b[0;34mf\"Expected: {expected_classes}, got {self.classes_}\"\u001b[0m\u001b[0;34m\u001b[0m\u001b[0;34m\u001b[0m\u001b[0m\n",
            "\u001b[0;31mValueError\u001b[0m: Invalid classes inferred from unique values of `y`.  Expected: [ 0  1  2  3  4  5  6  7  8  9 10 11 12 13 14 15 16 17 18 19 20 21 22 23\n 24 25 26 27 28 29 30 31 32 33 34 35 36 37 38 39 40 41 42 43 44 45 46 47\n 48 49 50 51 52 53 54 55 56 57 58 59 60 61 62 63 64 65 66 67 68 69 70 71\n 72 73 74 75 76], got [ 0  3  4  5  6  7  8  9 10 11 12 13 14 15 16 17 18 19 20 21 22 23 24 25\n 26 27 28 29 30 31 32 33 34 35 36 37 38 39 40 41 42 43 44 45 46 47 48 49\n 50 51 52 53 54 55 56 57 58 59 60 61 62 63 64 65 66 67 68 69 70 71 72 73\n 75 76 77 80 81]"
          ]
        }
      ]
    },
    {
      "cell_type": "code",
      "source": [
        "print(df_refinado)"
      ],
      "metadata": {
        "colab": {
          "base_uri": "https://localhost:8080/"
        },
        "id": "bF-hISwuRtbY",
        "outputId": "fa00e4f2-a0fe-49cd-fc35-d5558829d996"
      },
      "execution_count": null,
      "outputs": [
        {
          "output_type": "stream",
          "name": "stdout",
          "text": [
            "                              EDUCATION                     PROVINCE    SEX  \\\n",
            "0                Completed postgraduate  CABA (Buenos Aires capital)    man   \n",
            "1     Incomplete tertiary or university             Tierra del Fuego  woman   \n",
            "2                 Completed high school                        Jujuy    man   \n",
            "3     Incomplete tertiary or university                        Jujuy  woman   \n",
            "5                Completed postgraduate                      Córdoba  woman   \n",
            "...                                 ...                          ...    ...   \n",
            "1095             Completed postgraduate                      Córdoba  woman   \n",
            "1096   Completed tertiary or university                      Córdoba    man   \n",
            "1097  Incomplete tertiary or university  CABA (Buenos Aires capital)  woman   \n",
            "1098            Incomplete postgraduate                      Córdoba    man   \n",
            "1099             Incomplete high school       Buenos Aires provincia  woman   \n",
            "\n",
            "      AGE MENTAL DISORDER HISTORY SUIC ATTEMPT HISTORY LIVING WITH SOMEBODY  \\\n",
            "0      30                      no             ideation                   no   \n",
            "1      30                      no             ideation                  yes   \n",
            "2      39                     yes                   no                   no   \n",
            "3      36                      no                   no                  yes   \n",
            "5      35                      no                   no                  yes   \n",
            "...   ...                     ...                  ...                  ...   \n",
            "1095   28                      no                  yes                  yes   \n",
            "1096   39                      no                   no                  yes   \n",
            "1097   22                      no                   no                  yes   \n",
            "1098   31                      no                   no                  yes   \n",
            "1099   29                      no             ideation                  yes   \n",
            "\n",
            "     ECONOMIC INCOME  DEPRESSION  SUIC RISK  ANXIETY STATE  ANXIETY TRAIT  \n",
            "0                yes          21         37             54             40  \n",
            "1                yes          26         46             34             36  \n",
            "2                yes           8         21             33             29  \n",
            "3                 no          27         70             42             48  \n",
            "5                yes           9          4             25             12  \n",
            "...              ...         ...        ...            ...            ...  \n",
            "1095             yes          41         80             51             47  \n",
            "1096             yes          10         19             31             25  \n",
            "1097             yes           7         25             27             24  \n",
            "1098             yes           6         30             14             20  \n",
            "1099             yes          42         56             44             37  \n",
            "\n",
            "[1077 rows x 12 columns]\n"
          ]
        }
      ]
    },
    {
      "cell_type": "code",
      "source": [
        "# Evalúa el modelo en el conjunto de prueba\n",
        "\n",
        "predictions = model.predict(test_df[features])\n",
        "\n",
        "# Generar un informe de clasificación con varias métricas\n",
        "report = classification_report(test_df[target], predictions)\n",
        "print(\"Informe de Clasificación:\")\n",
        "print(report)"
      ],
      "metadata": {
        "colab": {
          "base_uri": "https://localhost:8080/",
          "height": 390
        },
        "id": "XRNMRjWo6Uwd",
        "outputId": "0b1a4b28-c2dd-4cfb-d02e-41cc5a387a0f"
      },
      "execution_count": null,
      "outputs": [
        {
          "output_type": "error",
          "ename": "NotFittedError",
          "evalue": "ignored",
          "traceback": [
            "\u001b[0;31m---------------------------------------------------------------------------\u001b[0m",
            "\u001b[0;31mNotFittedError\u001b[0m                            Traceback (most recent call last)",
            "\u001b[0;32m<ipython-input-25-dc817db30f50>\u001b[0m in \u001b[0;36m<cell line: 3>\u001b[0;34m()\u001b[0m\n\u001b[1;32m      1\u001b[0m \u001b[0;31m# Evalúa el modelo en el conjunto de prueba\u001b[0m\u001b[0;34m\u001b[0m\u001b[0;34m\u001b[0m\u001b[0m\n\u001b[1;32m      2\u001b[0m \u001b[0;34m\u001b[0m\u001b[0m\n\u001b[0;32m----> 3\u001b[0;31m \u001b[0mpredictions\u001b[0m \u001b[0;34m=\u001b[0m \u001b[0mmodel\u001b[0m\u001b[0;34m.\u001b[0m\u001b[0mpredict\u001b[0m\u001b[0;34m(\u001b[0m\u001b[0mtest_df\u001b[0m\u001b[0;34m[\u001b[0m\u001b[0mfeatures\u001b[0m\u001b[0;34m]\u001b[0m\u001b[0;34m)\u001b[0m\u001b[0;34m\u001b[0m\u001b[0;34m\u001b[0m\u001b[0m\n\u001b[0m\u001b[1;32m      4\u001b[0m \u001b[0;34m\u001b[0m\u001b[0m\n\u001b[1;32m      5\u001b[0m \u001b[0;31m# Generar un informe de clasificación con varias métricas\u001b[0m\u001b[0;34m\u001b[0m\u001b[0;34m\u001b[0m\u001b[0m\n",
            "\u001b[0;32m/usr/local/lib/python3.10/dist-packages/xgboost/sklearn.py\u001b[0m in \u001b[0;36mpredict\u001b[0;34m(self, X, output_margin, ntree_limit, validate_features, base_margin, iteration_range)\u001b[0m\n\u001b[1;32m   1523\u001b[0m     ) -> np.ndarray:\n\u001b[1;32m   1524\u001b[0m         \u001b[0;32mwith\u001b[0m \u001b[0mconfig_context\u001b[0m\u001b[0;34m(\u001b[0m\u001b[0mverbosity\u001b[0m\u001b[0;34m=\u001b[0m\u001b[0mself\u001b[0m\u001b[0;34m.\u001b[0m\u001b[0mverbosity\u001b[0m\u001b[0;34m)\u001b[0m\u001b[0;34m:\u001b[0m\u001b[0;34m\u001b[0m\u001b[0;34m\u001b[0m\u001b[0m\n\u001b[0;32m-> 1525\u001b[0;31m             class_probs = super().predict(\n\u001b[0m\u001b[1;32m   1526\u001b[0m                 \u001b[0mX\u001b[0m\u001b[0;34m=\u001b[0m\u001b[0mX\u001b[0m\u001b[0;34m,\u001b[0m\u001b[0;34m\u001b[0m\u001b[0;34m\u001b[0m\u001b[0m\n\u001b[1;32m   1527\u001b[0m                 \u001b[0moutput_margin\u001b[0m\u001b[0;34m=\u001b[0m\u001b[0moutput_margin\u001b[0m\u001b[0;34m,\u001b[0m\u001b[0;34m\u001b[0m\u001b[0;34m\u001b[0m\u001b[0m\n",
            "\u001b[0;32m/usr/local/lib/python3.10/dist-packages/xgboost/sklearn.py\u001b[0m in \u001b[0;36mpredict\u001b[0;34m(self, X, output_margin, ntree_limit, validate_features, base_margin, iteration_range)\u001b[0m\n\u001b[1;32m   1107\u001b[0m         \u001b[0;32mwith\u001b[0m \u001b[0mconfig_context\u001b[0m\u001b[0;34m(\u001b[0m\u001b[0mverbosity\u001b[0m\u001b[0;34m=\u001b[0m\u001b[0mself\u001b[0m\u001b[0;34m.\u001b[0m\u001b[0mverbosity\u001b[0m\u001b[0;34m)\u001b[0m\u001b[0;34m:\u001b[0m\u001b[0;34m\u001b[0m\u001b[0;34m\u001b[0m\u001b[0m\n\u001b[1;32m   1108\u001b[0m             iteration_range = _convert_ntree_limit(\n\u001b[0;32m-> 1109\u001b[0;31m                 \u001b[0mself\u001b[0m\u001b[0;34m.\u001b[0m\u001b[0mget_booster\u001b[0m\u001b[0;34m(\u001b[0m\u001b[0;34m)\u001b[0m\u001b[0;34m,\u001b[0m \u001b[0mntree_limit\u001b[0m\u001b[0;34m,\u001b[0m \u001b[0miteration_range\u001b[0m\u001b[0;34m\u001b[0m\u001b[0;34m\u001b[0m\u001b[0m\n\u001b[0m\u001b[1;32m   1110\u001b[0m             )\n\u001b[1;32m   1111\u001b[0m             \u001b[0miteration_range\u001b[0m \u001b[0;34m=\u001b[0m \u001b[0mself\u001b[0m\u001b[0;34m.\u001b[0m\u001b[0m_get_iteration_range\u001b[0m\u001b[0;34m(\u001b[0m\u001b[0miteration_range\u001b[0m\u001b[0;34m)\u001b[0m\u001b[0;34m\u001b[0m\u001b[0;34m\u001b[0m\u001b[0m\n",
            "\u001b[0;32m/usr/local/lib/python3.10/dist-packages/xgboost/sklearn.py\u001b[0m in \u001b[0;36mget_booster\u001b[0;34m(self)\u001b[0m\n\u001b[1;32m    647\u001b[0m             \u001b[0;32mfrom\u001b[0m \u001b[0msklearn\u001b[0m\u001b[0;34m.\u001b[0m\u001b[0mexceptions\u001b[0m \u001b[0;32mimport\u001b[0m \u001b[0mNotFittedError\u001b[0m\u001b[0;34m\u001b[0m\u001b[0;34m\u001b[0m\u001b[0m\n\u001b[1;32m    648\u001b[0m \u001b[0;34m\u001b[0m\u001b[0m\n\u001b[0;32m--> 649\u001b[0;31m             \u001b[0;32mraise\u001b[0m \u001b[0mNotFittedError\u001b[0m\u001b[0;34m(\u001b[0m\u001b[0;34m\"need to call fit or load_model beforehand\"\u001b[0m\u001b[0;34m)\u001b[0m\u001b[0;34m\u001b[0m\u001b[0;34m\u001b[0m\u001b[0m\n\u001b[0m\u001b[1;32m    650\u001b[0m         \u001b[0;32mreturn\u001b[0m \u001b[0mself\u001b[0m\u001b[0;34m.\u001b[0m\u001b[0m_Booster\u001b[0m\u001b[0;34m\u001b[0m\u001b[0;34m\u001b[0m\u001b[0m\n\u001b[1;32m    651\u001b[0m \u001b[0;34m\u001b[0m\u001b[0m\n",
            "\u001b[0;31mNotFittedError\u001b[0m: need to call fit or load_model beforehand"
          ]
        }
      ]
    },
    {
      "cell_type": "code",
      "source": [
        "# Nuevos datos para hacer una predicción\n",
        "\n",
        "new_data = pd.DataFrame({\n",
        "    'AGE': [25],  # Edad de la persona\n",
        "    'SEX_man': [0],  # Género masculino (0 para 'SEX_man', 1 para 'SEX_woman')\n",
        "    'SEX_woman': [1],  # Género femenino\n",
        "    'PROVINCE_Buenos Aires provincia': [1],  # Ejemplo de provincia (ajusta las columnas según tu codificación)\n",
        "    # Agrega más características según tu modelo\n",
        "})\n",
        "\n",
        "# Realiza la predicción utilizando el modelo entrenado\n",
        "predicted_risk = model.predict(new_data['AGE', 'SEX_man','SEX_woman','PROVINCE_Buenos Aires provincia'])\n",
        "\n",
        "# predicted_risk contendrá las predicciones de riesgo de suicidio para los nuevos datos\n",
        "print(predicted_risk)"
      ],
      "metadata": {
        "colab": {
          "base_uri": "https://localhost:8080/",
          "height": 512
        },
        "id": "Cz8095Q59GPF",
        "outputId": "a1804204-f949-4bee-80e0-88bc6ac22365"
      },
      "execution_count": null,
      "outputs": [
        {
          "output_type": "error",
          "ename": "KeyError",
          "evalue": "ignored",
          "traceback": [
            "\u001b[0;31m---------------------------------------------------------------------------\u001b[0m",
            "\u001b[0;31mKeyError\u001b[0m                                  Traceback (most recent call last)",
            "\u001b[0;32m/usr/local/lib/python3.10/dist-packages/pandas/core/indexes/base.py\u001b[0m in \u001b[0;36mget_loc\u001b[0;34m(self, key, method, tolerance)\u001b[0m\n\u001b[1;32m   3801\u001b[0m             \u001b[0;32mtry\u001b[0m\u001b[0;34m:\u001b[0m\u001b[0;34m\u001b[0m\u001b[0;34m\u001b[0m\u001b[0m\n\u001b[0;32m-> 3802\u001b[0;31m                 \u001b[0;32mreturn\u001b[0m \u001b[0mself\u001b[0m\u001b[0;34m.\u001b[0m\u001b[0m_engine\u001b[0m\u001b[0;34m.\u001b[0m\u001b[0mget_loc\u001b[0m\u001b[0;34m(\u001b[0m\u001b[0mcasted_key\u001b[0m\u001b[0;34m)\u001b[0m\u001b[0;34m\u001b[0m\u001b[0;34m\u001b[0m\u001b[0m\n\u001b[0m\u001b[1;32m   3803\u001b[0m             \u001b[0;32mexcept\u001b[0m \u001b[0mKeyError\u001b[0m \u001b[0;32mas\u001b[0m \u001b[0merr\u001b[0m\u001b[0;34m:\u001b[0m\u001b[0;34m\u001b[0m\u001b[0;34m\u001b[0m\u001b[0m\n",
            "\u001b[0;32m/usr/local/lib/python3.10/dist-packages/pandas/_libs/index.pyx\u001b[0m in \u001b[0;36mpandas._libs.index.IndexEngine.get_loc\u001b[0;34m()\u001b[0m\n",
            "\u001b[0;32m/usr/local/lib/python3.10/dist-packages/pandas/_libs/index.pyx\u001b[0m in \u001b[0;36mpandas._libs.index.IndexEngine.get_loc\u001b[0;34m()\u001b[0m\n",
            "\u001b[0;32mpandas/_libs/hashtable_class_helper.pxi\u001b[0m in \u001b[0;36mpandas._libs.hashtable.PyObjectHashTable.get_item\u001b[0;34m()\u001b[0m\n",
            "\u001b[0;32mpandas/_libs/hashtable_class_helper.pxi\u001b[0m in \u001b[0;36mpandas._libs.hashtable.PyObjectHashTable.get_item\u001b[0;34m()\u001b[0m\n",
            "\u001b[0;31mKeyError\u001b[0m: ('AGE', 'SEX_man', 'SEX_woman', 'PROVINCE_Buenos Aires provincia')",
            "\nThe above exception was the direct cause of the following exception:\n",
            "\u001b[0;31mKeyError\u001b[0m                                  Traceback (most recent call last)",
            "\u001b[0;32m<ipython-input-157-06e4b47c259f>\u001b[0m in \u001b[0;36m<cell line: 12>\u001b[0;34m()\u001b[0m\n\u001b[1;32m     10\u001b[0m \u001b[0;34m\u001b[0m\u001b[0m\n\u001b[1;32m     11\u001b[0m \u001b[0;31m# Realiza la predicción utilizando el modelo entrenado\u001b[0m\u001b[0;34m\u001b[0m\u001b[0;34m\u001b[0m\u001b[0m\n\u001b[0;32m---> 12\u001b[0;31m \u001b[0mpredicted_risk\u001b[0m \u001b[0;34m=\u001b[0m \u001b[0mmodel\u001b[0m\u001b[0;34m.\u001b[0m\u001b[0mpredict\u001b[0m\u001b[0;34m(\u001b[0m\u001b[0mnew_data\u001b[0m\u001b[0;34m[\u001b[0m\u001b[0;34m'AGE'\u001b[0m\u001b[0;34m,\u001b[0m \u001b[0;34m'SEX_man'\u001b[0m\u001b[0;34m,\u001b[0m\u001b[0;34m'SEX_woman'\u001b[0m\u001b[0;34m,\u001b[0m\u001b[0;34m'PROVINCE_Buenos Aires provincia'\u001b[0m\u001b[0;34m]\u001b[0m\u001b[0;34m)\u001b[0m\u001b[0;34m\u001b[0m\u001b[0;34m\u001b[0m\u001b[0m\n\u001b[0m\u001b[1;32m     13\u001b[0m \u001b[0;34m\u001b[0m\u001b[0m\n\u001b[1;32m     14\u001b[0m \u001b[0;31m# predicted_risk contendrá las predicciones de riesgo de suicidio para los nuevos datos\u001b[0m\u001b[0;34m\u001b[0m\u001b[0;34m\u001b[0m\u001b[0m\n",
            "\u001b[0;32m/usr/local/lib/python3.10/dist-packages/pandas/core/frame.py\u001b[0m in \u001b[0;36m__getitem__\u001b[0;34m(self, key)\u001b[0m\n\u001b[1;32m   3805\u001b[0m             \u001b[0;32mif\u001b[0m \u001b[0mself\u001b[0m\u001b[0;34m.\u001b[0m\u001b[0mcolumns\u001b[0m\u001b[0;34m.\u001b[0m\u001b[0mnlevels\u001b[0m \u001b[0;34m>\u001b[0m \u001b[0;36m1\u001b[0m\u001b[0;34m:\u001b[0m\u001b[0;34m\u001b[0m\u001b[0;34m\u001b[0m\u001b[0m\n\u001b[1;32m   3806\u001b[0m                 \u001b[0;32mreturn\u001b[0m \u001b[0mself\u001b[0m\u001b[0;34m.\u001b[0m\u001b[0m_getitem_multilevel\u001b[0m\u001b[0;34m(\u001b[0m\u001b[0mkey\u001b[0m\u001b[0;34m)\u001b[0m\u001b[0;34m\u001b[0m\u001b[0;34m\u001b[0m\u001b[0m\n\u001b[0;32m-> 3807\u001b[0;31m             \u001b[0mindexer\u001b[0m \u001b[0;34m=\u001b[0m \u001b[0mself\u001b[0m\u001b[0;34m.\u001b[0m\u001b[0mcolumns\u001b[0m\u001b[0;34m.\u001b[0m\u001b[0mget_loc\u001b[0m\u001b[0;34m(\u001b[0m\u001b[0mkey\u001b[0m\u001b[0;34m)\u001b[0m\u001b[0;34m\u001b[0m\u001b[0;34m\u001b[0m\u001b[0m\n\u001b[0m\u001b[1;32m   3808\u001b[0m             \u001b[0;32mif\u001b[0m \u001b[0mis_integer\u001b[0m\u001b[0;34m(\u001b[0m\u001b[0mindexer\u001b[0m\u001b[0;34m)\u001b[0m\u001b[0;34m:\u001b[0m\u001b[0;34m\u001b[0m\u001b[0;34m\u001b[0m\u001b[0m\n\u001b[1;32m   3809\u001b[0m                 \u001b[0mindexer\u001b[0m \u001b[0;34m=\u001b[0m \u001b[0;34m[\u001b[0m\u001b[0mindexer\u001b[0m\u001b[0;34m]\u001b[0m\u001b[0;34m\u001b[0m\u001b[0;34m\u001b[0m\u001b[0m\n",
            "\u001b[0;32m/usr/local/lib/python3.10/dist-packages/pandas/core/indexes/base.py\u001b[0m in \u001b[0;36mget_loc\u001b[0;34m(self, key, method, tolerance)\u001b[0m\n\u001b[1;32m   3802\u001b[0m                 \u001b[0;32mreturn\u001b[0m \u001b[0mself\u001b[0m\u001b[0;34m.\u001b[0m\u001b[0m_engine\u001b[0m\u001b[0;34m.\u001b[0m\u001b[0mget_loc\u001b[0m\u001b[0;34m(\u001b[0m\u001b[0mcasted_key\u001b[0m\u001b[0;34m)\u001b[0m\u001b[0;34m\u001b[0m\u001b[0;34m\u001b[0m\u001b[0m\n\u001b[1;32m   3803\u001b[0m             \u001b[0;32mexcept\u001b[0m \u001b[0mKeyError\u001b[0m \u001b[0;32mas\u001b[0m \u001b[0merr\u001b[0m\u001b[0;34m:\u001b[0m\u001b[0;34m\u001b[0m\u001b[0;34m\u001b[0m\u001b[0m\n\u001b[0;32m-> 3804\u001b[0;31m                 \u001b[0;32mraise\u001b[0m \u001b[0mKeyError\u001b[0m\u001b[0;34m(\u001b[0m\u001b[0mkey\u001b[0m\u001b[0;34m)\u001b[0m \u001b[0;32mfrom\u001b[0m \u001b[0merr\u001b[0m\u001b[0;34m\u001b[0m\u001b[0;34m\u001b[0m\u001b[0m\n\u001b[0m\u001b[1;32m   3805\u001b[0m             \u001b[0;32mexcept\u001b[0m \u001b[0mTypeError\u001b[0m\u001b[0;34m:\u001b[0m\u001b[0;34m\u001b[0m\u001b[0;34m\u001b[0m\u001b[0m\n\u001b[1;32m   3806\u001b[0m                 \u001b[0;31m# If we have a listlike key, _check_indexing_error will raise\u001b[0m\u001b[0;34m\u001b[0m\u001b[0;34m\u001b[0m\u001b[0m\n",
            "\u001b[0;31mKeyError\u001b[0m: ('AGE', 'SEX_man', 'SEX_woman', 'PROVINCE_Buenos Aires provincia')"
          ]
        }
      ]
    },
    {
      "cell_type": "code",
      "source": [],
      "metadata": {
        "id": "Ax0JIsj09GYN"
      },
      "execution_count": null,
      "outputs": []
    },
    {
      "cell_type": "code",
      "source": [],
      "metadata": {
        "id": "fwVl1t799Gjl"
      },
      "execution_count": null,
      "outputs": []
    }
  ]
}