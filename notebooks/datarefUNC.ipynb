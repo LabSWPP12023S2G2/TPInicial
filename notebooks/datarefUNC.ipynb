{
  "cells": [
    {
      "cell_type": "markdown",
      "metadata": {
        "id": "view-in-github",
        "colab_type": "text"
      },
      "source": [
        "<a href=\"https://colab.research.google.com/github/LabSWPP12023S2G2/TPInicial/blob/main/datarefUNC.ipynb\" target=\"_parent\"><img src=\"https://colab.research.google.com/assets/colab-badge.svg\" alt=\"Open In Colab\"/></a>"
      ]
    },
    {
      "cell_type": "code",
      "execution_count": 1,
      "id": "b254bbda-9810-42a9-9893-1abe52c58c15",
      "metadata": {
        "id": "b254bbda-9810-42a9-9893-1abe52c58c15"
      },
      "outputs": [],
      "source": [
        "# Importamos librerias\n",
        "import pandas as pd\n",
        "from sklearn.model_selection import train_test_split\n",
        "from sklearn.preprocessing import LabelEncoder\n",
        "from sklearn.linear_model import LogisticRegression\n",
        "from sklearn.metrics import classification_report"
      ]
    },
    {
      "cell_type": "code",
      "execution_count": 2,
      "id": "0ef3fb46-77db-4539-b016-0ddcfcabccb1",
      "metadata": {
        "id": "0ef3fb46-77db-4539-b016-0ddcfcabccb1"
      },
      "outputs": [],
      "source": [
        "# Leemos el dataset desde el repo\n",
        "url = 'https://raw.githubusercontent.com/LabSWPP12023S2G2/TPInicial/main/datasetUNC.csv'\n",
        "df = pd.read_csv(url, delimiter=';')"
      ]
    },
    {
      "cell_type": "code",
      "source": [
        "# Eliminamos posibles records que esten vacíos\n",
        "df = df.dropna(axis=0)"
      ],
      "metadata": {
        "id": "lBvL3j1c-1yr"
      },
      "id": "lBvL3j1c-1yr",
      "execution_count": 3,
      "outputs": []
    },
    {
      "cell_type": "code",
      "source": [
        "# Vemos las variables del dataset\n",
        "df.columns"
      ],
      "metadata": {
        "colab": {
          "base_uri": "https://localhost:8080/"
        },
        "id": "RJSvAiCI9jNy",
        "outputId": "9ef148cf-f1d3-4000-b686-feb266dac1d7"
      },
      "id": "RJSvAiCI9jNy",
      "execution_count": 4,
      "outputs": [
        {
          "output_type": "execute_result",
          "data": {
            "text/plain": [
              "Index(['SUB PERIODS', 'EDUCATION', 'PROVINCE', 'SEX', 'AGE',\n",
              "       'MENTAL DISORDER HISTORY', 'SUIC ATTEMPT HISTORY',\n",
              "       'LIVING WITH SOMEBODY', 'ECONOMIC INCOME', 'DEPRESSION', 'SUIC RISK',\n",
              "       'ANXIETY STATE', 'ANXIETY TRAIT'],\n",
              "      dtype='object')"
            ]
          },
          "metadata": {},
          "execution_count": 4
        }
      ]
    },
    {
      "cell_type": "code",
      "source": [
        "# Vamos a refinar el dataset con las variables que deseamos\n",
        "variables = ['ANXIETY STATE', 'DEPRESSION', 'SUIC RISK', 'AGE', 'SUIC ATTEMPT HISTORY', 'PROVINCE']"
      ],
      "metadata": {
        "id": "AG43p03R9UD8"
      },
      "id": "AG43p03R9UD8",
      "execution_count": 5,
      "outputs": []
    },
    {
      "cell_type": "code",
      "source": [
        "# Refinamos el dataset\n",
        "df_refinado = df[variables]"
      ],
      "metadata": {
        "id": "OqjWv4Ln-hCR"
      },
      "id": "OqjWv4Ln-hCR",
      "execution_count": 6,
      "outputs": []
    },
    {
      "cell_type": "code",
      "source": [
        "# Dataset preparado\n",
        "df_refinado"
      ],
      "metadata": {
        "colab": {
          "base_uri": "https://localhost:8080/",
          "height": 423
        },
        "id": "NrC9Z39h-mq2",
        "outputId": "2a806bd1-b35b-44ed-cc5a-616425f4d0f8"
      },
      "id": "NrC9Z39h-mq2",
      "execution_count": 7,
      "outputs": [
        {
          "output_type": "execute_result",
          "data": {
            "text/plain": [
              "      ANXIETY STATE  DEPRESSION  SUIC RISK  AGE SUIC ATTEMPT HISTORY  \\\n",
              "0                54          21         37   30             ideation   \n",
              "1                34          26         46   30             ideation   \n",
              "2                33           8         21   39                   no   \n",
              "3                42          27         70   36                   no   \n",
              "4                11           1         28   49                   no   \n",
              "...             ...         ...        ...  ...                  ...   \n",
              "1095             51          41         80   28                  yes   \n",
              "1096             31          10         19   39                   no   \n",
              "1097             27           7         25   22                   no   \n",
              "1098             14           6         30   31                   no   \n",
              "1099             44          42         56   29             ideation   \n",
              "\n",
              "                         PROVINCE  \n",
              "0     CABA (Buenos Aires capital)  \n",
              "1                Tierra del Fuego  \n",
              "2                           Jujuy  \n",
              "3                           Jujuy  \n",
              "4                           other  \n",
              "...                           ...  \n",
              "1095                      Córdoba  \n",
              "1096                      Córdoba  \n",
              "1097  CABA (Buenos Aires capital)  \n",
              "1098                      Córdoba  \n",
              "1099       Buenos Aires provincia  \n",
              "\n",
              "[1100 rows x 6 columns]"
            ],
            "text/html": [
              "\n",
              "  <div id=\"df-f786453b-5f70-48e3-970a-0e699542dfa0\" class=\"colab-df-container\">\n",
              "    <div>\n",
              "<style scoped>\n",
              "    .dataframe tbody tr th:only-of-type {\n",
              "        vertical-align: middle;\n",
              "    }\n",
              "\n",
              "    .dataframe tbody tr th {\n",
              "        vertical-align: top;\n",
              "    }\n",
              "\n",
              "    .dataframe thead th {\n",
              "        text-align: right;\n",
              "    }\n",
              "</style>\n",
              "<table border=\"1\" class=\"dataframe\">\n",
              "  <thead>\n",
              "    <tr style=\"text-align: right;\">\n",
              "      <th></th>\n",
              "      <th>ANXIETY STATE</th>\n",
              "      <th>DEPRESSION</th>\n",
              "      <th>SUIC RISK</th>\n",
              "      <th>AGE</th>\n",
              "      <th>SUIC ATTEMPT HISTORY</th>\n",
              "      <th>PROVINCE</th>\n",
              "    </tr>\n",
              "  </thead>\n",
              "  <tbody>\n",
              "    <tr>\n",
              "      <th>0</th>\n",
              "      <td>54</td>\n",
              "      <td>21</td>\n",
              "      <td>37</td>\n",
              "      <td>30</td>\n",
              "      <td>ideation</td>\n",
              "      <td>CABA (Buenos Aires capital)</td>\n",
              "    </tr>\n",
              "    <tr>\n",
              "      <th>1</th>\n",
              "      <td>34</td>\n",
              "      <td>26</td>\n",
              "      <td>46</td>\n",
              "      <td>30</td>\n",
              "      <td>ideation</td>\n",
              "      <td>Tierra del Fuego</td>\n",
              "    </tr>\n",
              "    <tr>\n",
              "      <th>2</th>\n",
              "      <td>33</td>\n",
              "      <td>8</td>\n",
              "      <td>21</td>\n",
              "      <td>39</td>\n",
              "      <td>no</td>\n",
              "      <td>Jujuy</td>\n",
              "    </tr>\n",
              "    <tr>\n",
              "      <th>3</th>\n",
              "      <td>42</td>\n",
              "      <td>27</td>\n",
              "      <td>70</td>\n",
              "      <td>36</td>\n",
              "      <td>no</td>\n",
              "      <td>Jujuy</td>\n",
              "    </tr>\n",
              "    <tr>\n",
              "      <th>4</th>\n",
              "      <td>11</td>\n",
              "      <td>1</td>\n",
              "      <td>28</td>\n",
              "      <td>49</td>\n",
              "      <td>no</td>\n",
              "      <td>other</td>\n",
              "    </tr>\n",
              "    <tr>\n",
              "      <th>...</th>\n",
              "      <td>...</td>\n",
              "      <td>...</td>\n",
              "      <td>...</td>\n",
              "      <td>...</td>\n",
              "      <td>...</td>\n",
              "      <td>...</td>\n",
              "    </tr>\n",
              "    <tr>\n",
              "      <th>1095</th>\n",
              "      <td>51</td>\n",
              "      <td>41</td>\n",
              "      <td>80</td>\n",
              "      <td>28</td>\n",
              "      <td>yes</td>\n",
              "      <td>Córdoba</td>\n",
              "    </tr>\n",
              "    <tr>\n",
              "      <th>1096</th>\n",
              "      <td>31</td>\n",
              "      <td>10</td>\n",
              "      <td>19</td>\n",
              "      <td>39</td>\n",
              "      <td>no</td>\n",
              "      <td>Córdoba</td>\n",
              "    </tr>\n",
              "    <tr>\n",
              "      <th>1097</th>\n",
              "      <td>27</td>\n",
              "      <td>7</td>\n",
              "      <td>25</td>\n",
              "      <td>22</td>\n",
              "      <td>no</td>\n",
              "      <td>CABA (Buenos Aires capital)</td>\n",
              "    </tr>\n",
              "    <tr>\n",
              "      <th>1098</th>\n",
              "      <td>14</td>\n",
              "      <td>6</td>\n",
              "      <td>30</td>\n",
              "      <td>31</td>\n",
              "      <td>no</td>\n",
              "      <td>Córdoba</td>\n",
              "    </tr>\n",
              "    <tr>\n",
              "      <th>1099</th>\n",
              "      <td>44</td>\n",
              "      <td>42</td>\n",
              "      <td>56</td>\n",
              "      <td>29</td>\n",
              "      <td>ideation</td>\n",
              "      <td>Buenos Aires provincia</td>\n",
              "    </tr>\n",
              "  </tbody>\n",
              "</table>\n",
              "<p>1100 rows × 6 columns</p>\n",
              "</div>\n",
              "    <div class=\"colab-df-buttons\">\n",
              "\n",
              "  <div class=\"colab-df-container\">\n",
              "    <button class=\"colab-df-convert\" onclick=\"convertToInteractive('df-f786453b-5f70-48e3-970a-0e699542dfa0')\"\n",
              "            title=\"Convert this dataframe to an interactive table.\"\n",
              "            style=\"display:none;\">\n",
              "\n",
              "  <svg xmlns=\"http://www.w3.org/2000/svg\" height=\"24px\" viewBox=\"0 -960 960 960\">\n",
              "    <path d=\"M120-120v-720h720v720H120Zm60-500h600v-160H180v160Zm220 220h160v-160H400v160Zm0 220h160v-160H400v160ZM180-400h160v-160H180v160Zm440 0h160v-160H620v160ZM180-180h160v-160H180v160Zm440 0h160v-160H620v160Z\"/>\n",
              "  </svg>\n",
              "    </button>\n",
              "\n",
              "  <style>\n",
              "    .colab-df-container {\n",
              "      display:flex;\n",
              "      gap: 12px;\n",
              "    }\n",
              "\n",
              "    .colab-df-convert {\n",
              "      background-color: #E8F0FE;\n",
              "      border: none;\n",
              "      border-radius: 50%;\n",
              "      cursor: pointer;\n",
              "      display: none;\n",
              "      fill: #1967D2;\n",
              "      height: 32px;\n",
              "      padding: 0 0 0 0;\n",
              "      width: 32px;\n",
              "    }\n",
              "\n",
              "    .colab-df-convert:hover {\n",
              "      background-color: #E2EBFA;\n",
              "      box-shadow: 0px 1px 2px rgba(60, 64, 67, 0.3), 0px 1px 3px 1px rgba(60, 64, 67, 0.15);\n",
              "      fill: #174EA6;\n",
              "    }\n",
              "\n",
              "    .colab-df-buttons div {\n",
              "      margin-bottom: 4px;\n",
              "    }\n",
              "\n",
              "    [theme=dark] .colab-df-convert {\n",
              "      background-color: #3B4455;\n",
              "      fill: #D2E3FC;\n",
              "    }\n",
              "\n",
              "    [theme=dark] .colab-df-convert:hover {\n",
              "      background-color: #434B5C;\n",
              "      box-shadow: 0px 1px 3px 1px rgba(0, 0, 0, 0.15);\n",
              "      filter: drop-shadow(0px 1px 2px rgba(0, 0, 0, 0.3));\n",
              "      fill: #FFFFFF;\n",
              "    }\n",
              "  </style>\n",
              "\n",
              "    <script>\n",
              "      const buttonEl =\n",
              "        document.querySelector('#df-f786453b-5f70-48e3-970a-0e699542dfa0 button.colab-df-convert');\n",
              "      buttonEl.style.display =\n",
              "        google.colab.kernel.accessAllowed ? 'block' : 'none';\n",
              "\n",
              "      async function convertToInteractive(key) {\n",
              "        const element = document.querySelector('#df-f786453b-5f70-48e3-970a-0e699542dfa0');\n",
              "        const dataTable =\n",
              "          await google.colab.kernel.invokeFunction('convertToInteractive',\n",
              "                                                    [key], {});\n",
              "        if (!dataTable) return;\n",
              "\n",
              "        const docLinkHtml = 'Like what you see? Visit the ' +\n",
              "          '<a target=\"_blank\" href=https://colab.research.google.com/notebooks/data_table.ipynb>data table notebook</a>'\n",
              "          + ' to learn more about interactive tables.';\n",
              "        element.innerHTML = '';\n",
              "        dataTable['output_type'] = 'display_data';\n",
              "        await google.colab.output.renderOutput(dataTable, element);\n",
              "        const docLink = document.createElement('div');\n",
              "        docLink.innerHTML = docLinkHtml;\n",
              "        element.appendChild(docLink);\n",
              "      }\n",
              "    </script>\n",
              "  </div>\n",
              "\n",
              "\n",
              "<div id=\"df-bf9b60d9-5b48-4674-9662-f28882f2bca3\">\n",
              "  <button class=\"colab-df-quickchart\" onclick=\"quickchart('df-bf9b60d9-5b48-4674-9662-f28882f2bca3')\"\n",
              "            title=\"Suggest charts.\"\n",
              "            style=\"display:none;\">\n",
              "\n",
              "<svg xmlns=\"http://www.w3.org/2000/svg\" height=\"24px\"viewBox=\"0 0 24 24\"\n",
              "     width=\"24px\">\n",
              "    <g>\n",
              "        <path d=\"M19 3H5c-1.1 0-2 .9-2 2v14c0 1.1.9 2 2 2h14c1.1 0 2-.9 2-2V5c0-1.1-.9-2-2-2zM9 17H7v-7h2v7zm4 0h-2V7h2v10zm4 0h-2v-4h2v4z\"/>\n",
              "    </g>\n",
              "</svg>\n",
              "  </button>\n",
              "\n",
              "<style>\n",
              "  .colab-df-quickchart {\n",
              "    background-color: #E8F0FE;\n",
              "    border: none;\n",
              "    border-radius: 50%;\n",
              "    cursor: pointer;\n",
              "    display: none;\n",
              "    fill: #1967D2;\n",
              "    height: 32px;\n",
              "    padding: 0 0 0 0;\n",
              "    width: 32px;\n",
              "  }\n",
              "\n",
              "  .colab-df-quickchart:hover {\n",
              "    background-color: #E2EBFA;\n",
              "    box-shadow: 0px 1px 2px rgba(60, 64, 67, 0.3), 0px 1px 3px 1px rgba(60, 64, 67, 0.15);\n",
              "    fill: #174EA6;\n",
              "  }\n",
              "\n",
              "  [theme=dark] .colab-df-quickchart {\n",
              "    background-color: #3B4455;\n",
              "    fill: #D2E3FC;\n",
              "  }\n",
              "\n",
              "  [theme=dark] .colab-df-quickchart:hover {\n",
              "    background-color: #434B5C;\n",
              "    box-shadow: 0px 1px 3px 1px rgba(0, 0, 0, 0.15);\n",
              "    filter: drop-shadow(0px 1px 2px rgba(0, 0, 0, 0.3));\n",
              "    fill: #FFFFFF;\n",
              "  }\n",
              "</style>\n",
              "\n",
              "  <script>\n",
              "    async function quickchart(key) {\n",
              "      const charts = await google.colab.kernel.invokeFunction(\n",
              "          'suggestCharts', [key], {});\n",
              "    }\n",
              "    (() => {\n",
              "      let quickchartButtonEl =\n",
              "        document.querySelector('#df-bf9b60d9-5b48-4674-9662-f28882f2bca3 button');\n",
              "      quickchartButtonEl.style.display =\n",
              "        google.colab.kernel.accessAllowed ? 'block' : 'none';\n",
              "    })();\n",
              "  </script>\n",
              "</div>\n",
              "    </div>\n",
              "  </div>\n"
            ]
          },
          "metadata": {},
          "execution_count": 7
        }
      ]
    },
    {
      "cell_type": "code",
      "source": [
        "# Dividimos el dataset, uno para entrenar y otro para testear, 70/30\n",
        "df_training, df_testing = train_test_split(df_refinado, test_size=0.3, random_state=42)\n",
        "\n",
        "# Guardamos los datasets!\n",
        "df_training.to_csv('training_datasetUNC.csv', index=False)\n",
        "df_testing.to_csv('testing_datasetUNC.csv', index=False)"
      ],
      "metadata": {
        "id": "pgeSoWAE6fFt"
      },
      "id": "pgeSoWAE6fFt",
      "execution_count": 8,
      "outputs": []
    },
    {
      "cell_type": "code",
      "source": [
        "# Codificar la columna 'PROVINCE' numéricamente\n",
        "province_label_encoder = LabelEncoder()\n",
        "all_provinces = pd.concat([df_training['PROVINCE'], df_testing['PROVINCE']])\n",
        "province_label_encoder.fit(all_provinces)\n",
        "df_training['COD_PROV'] = province_label_encoder.transform(df_training['PROVINCE'])\n",
        "df_testing['COD_PROV'] = province_label_encoder.transform(df_testing['PROVINCE'])"
      ],
      "metadata": {
        "id": "E3Dw2uFuCzWz"
      },
      "id": "E3Dw2uFuCzWz",
      "execution_count": 9,
      "outputs": []
    },
    {
      "cell_type": "code",
      "source": [
        "# Codificar la columna 'SUIC ATTEMPT HISTORY' numéricamente\n",
        "suic_attempt_encoder = LabelEncoder()\n",
        "all_suic_attempt = pd.concat([df_training['SUIC ATTEMPT HISTORY'], df_testing['SUIC ATTEMPT HISTORY']])\n",
        "suic_attempt_encoder.fit(all_suic_attempt)\n",
        "df_training['SUIC ATTEMPT_COD'] = suic_attempt_encoder.transform(df_training['SUIC ATTEMPT HISTORY'])\n",
        "df_testing['SUIC ATTEMPT_COD'] = suic_attempt_encoder.transform(df_testing['SUIC ATTEMPT HISTORY'])"
      ],
      "metadata": {
        "id": "K2aq5GEAHkKZ"
      },
      "id": "K2aq5GEAHkKZ",
      "execution_count": 10,
      "outputs": []
    },
    {
      "cell_type": "code",
      "source": [
        "# Agrupar y calcular estadísticas por provincia\n",
        "grouped_data = df_training.groupby('PROVINCE').median(numeric_only=True)\n",
        "\n",
        "'''# Renombrar las columnas para mayor claridad\n",
        "grouped_data.columns = ['median_ANXIETY STATE', 'std_ANXIETY STATE',\n",
        "                        'median_DEPRESSION', 'std_DEPRESSION',\n",
        "                        'median_SUIC RISK', 'std_SUIC RISK',\n",
        "                        'median_AGE', 'std_AGE',\n",
        "                        'median_SUIC ATTEMPT_COD', 'std_SUIC ATTEMPT_COD',]\n",
        "\n",
        "# Resetear el índice para tener 'PROVINCE' como columna\n",
        "grouped_data.reset_index(inplace=True)\n",
        "\n",
        "# Guardar los resultados en un nuevo archivo CSV\n",
        "grouped_data.to_csv('estadisticas_por_provincia.csv', index=False)\n",
        "'''\n",
        "\n",
        "# Calcular la mediana total de las variables de interés por provincia\n",
        "grouped_data['median_combined'] = grouped_data.median(axis=1, numeric_only=True)\n",
        "\n",
        "# Ordenar las provincias por la mediana total combinada\n",
        "sorted_provinces = grouped_data['median_combined'].sort_values(ascending=False)"
      ],
      "metadata": {
        "id": "Qo9_A9l8K8EX"
      },
      "id": "Qo9_A9l8K8EX",
      "execution_count": 16,
      "outputs": []
    },
    {
      "cell_type": "code",
      "source": [
        "sorted_provinces"
      ],
      "metadata": {
        "colab": {
          "base_uri": "https://localhost:8080/"
        },
        "id": "fyn3TIo9MSRx",
        "outputId": "9e3a8582-c44b-4efa-d3b6-3ea616beb0e3"
      },
      "id": "fyn3TIo9MSRx",
      "execution_count": 18,
      "outputs": [
        {
          "output_type": "execute_result",
          "data": {
            "text/plain": [
              "PROVINCE\n",
              "San Luis                       32.00\n",
              "Catamarca                      31.50\n",
              "Río Negro                      28.00\n",
              "Formosa                        26.50\n",
              "Tucumán                        25.50\n",
              "other                          24.00\n",
              "Chubut                         23.50\n",
              "Salta                          23.25\n",
              "CABA (Buenos Aires capital)    22.50\n",
              "Santa Fe                       22.00\n",
              "Buenos Aires provincia         21.75\n",
              "Tierra del Fuego               21.00\n",
              "Otro                           20.75\n",
              "Santiago del Estero            20.50\n",
              "Mendoza                        20.25\n",
              "Entre Ríos                     19.50\n",
              "Jujuy                          18.50\n",
              "Chaco                          18.50\n",
              "Neuquén                        18.00\n",
              "Santa Cruz                     18.00\n",
              "Corrientes                     17.00\n",
              "Córdoba                        16.75\n",
              "Misiones                       16.75\n",
              "La Pampa                       13.50\n",
              "San Juan                       13.00\n",
              "Name: median_combined, dtype: float64"
            ]
          },
          "metadata": {},
          "execution_count": 18
        }
      ]
    },
    {
      "cell_type": "code",
      "source": [
        "df_training"
      ],
      "metadata": {
        "colab": {
          "base_uri": "https://localhost:8080/",
          "height": 423
        },
        "id": "-ODqxfmQ73_F",
        "outputId": "ff71b034-a07d-4df9-bd19-d75debd2fce4"
      },
      "id": "-ODqxfmQ73_F",
      "execution_count": 11,
      "outputs": [
        {
          "output_type": "execute_result",
          "data": {
            "text/plain": [
              "      ANXIETY STATE  DEPRESSION  SUIC RISK  AGE SUIC ATTEMPT HISTORY  \\\n",
              "221              25           8         23   30                   no   \n",
              "235              26           5         18   57                   no   \n",
              "433              54          25         73   22             ideation   \n",
              "599               5           4          7   21                   no   \n",
              "305              46          14         36   30             ideation   \n",
              "...             ...         ...        ...  ...                  ...   \n",
              "466              16           4         18   47                   no   \n",
              "121              28          20         51   49             ideation   \n",
              "1044             60          46         60   31                  yes   \n",
              "1095             51          41         80   28                  yes   \n",
              "860              15          11         28   34                   no   \n",
              "\n",
              "                    PROVINCE  COD_PROV  SUIC ATTEMPT_COD  \n",
              "221                  Córdoba         6                 1  \n",
              "235   Buenos Aires provincia         0                 1  \n",
              "433   Buenos Aires provincia         0                 0  \n",
              "599                 Santa Fe        21                 1  \n",
              "305                  Córdoba         6                 0  \n",
              "...                      ...       ...               ...  \n",
              "466                  Tucumán        24                 1  \n",
              "121                  Córdoba         6                 0  \n",
              "1044                 Córdoba         6                 2  \n",
              "1095                 Córdoba         6                 2  \n",
              "860                 Santa Fe        21                 1  \n",
              "\n",
              "[770 rows x 8 columns]"
            ],
            "text/html": [
              "\n",
              "  <div id=\"df-41fff962-fdc5-459a-b92a-11ddde56dd70\" class=\"colab-df-container\">\n",
              "    <div>\n",
              "<style scoped>\n",
              "    .dataframe tbody tr th:only-of-type {\n",
              "        vertical-align: middle;\n",
              "    }\n",
              "\n",
              "    .dataframe tbody tr th {\n",
              "        vertical-align: top;\n",
              "    }\n",
              "\n",
              "    .dataframe thead th {\n",
              "        text-align: right;\n",
              "    }\n",
              "</style>\n",
              "<table border=\"1\" class=\"dataframe\">\n",
              "  <thead>\n",
              "    <tr style=\"text-align: right;\">\n",
              "      <th></th>\n",
              "      <th>ANXIETY STATE</th>\n",
              "      <th>DEPRESSION</th>\n",
              "      <th>SUIC RISK</th>\n",
              "      <th>AGE</th>\n",
              "      <th>SUIC ATTEMPT HISTORY</th>\n",
              "      <th>PROVINCE</th>\n",
              "      <th>COD_PROV</th>\n",
              "      <th>SUIC ATTEMPT_COD</th>\n",
              "    </tr>\n",
              "  </thead>\n",
              "  <tbody>\n",
              "    <tr>\n",
              "      <th>221</th>\n",
              "      <td>25</td>\n",
              "      <td>8</td>\n",
              "      <td>23</td>\n",
              "      <td>30</td>\n",
              "      <td>no</td>\n",
              "      <td>Córdoba</td>\n",
              "      <td>6</td>\n",
              "      <td>1</td>\n",
              "    </tr>\n",
              "    <tr>\n",
              "      <th>235</th>\n",
              "      <td>26</td>\n",
              "      <td>5</td>\n",
              "      <td>18</td>\n",
              "      <td>57</td>\n",
              "      <td>no</td>\n",
              "      <td>Buenos Aires provincia</td>\n",
              "      <td>0</td>\n",
              "      <td>1</td>\n",
              "    </tr>\n",
              "    <tr>\n",
              "      <th>433</th>\n",
              "      <td>54</td>\n",
              "      <td>25</td>\n",
              "      <td>73</td>\n",
              "      <td>22</td>\n",
              "      <td>ideation</td>\n",
              "      <td>Buenos Aires provincia</td>\n",
              "      <td>0</td>\n",
              "      <td>0</td>\n",
              "    </tr>\n",
              "    <tr>\n",
              "      <th>599</th>\n",
              "      <td>5</td>\n",
              "      <td>4</td>\n",
              "      <td>7</td>\n",
              "      <td>21</td>\n",
              "      <td>no</td>\n",
              "      <td>Santa Fe</td>\n",
              "      <td>21</td>\n",
              "      <td>1</td>\n",
              "    </tr>\n",
              "    <tr>\n",
              "      <th>305</th>\n",
              "      <td>46</td>\n",
              "      <td>14</td>\n",
              "      <td>36</td>\n",
              "      <td>30</td>\n",
              "      <td>ideation</td>\n",
              "      <td>Córdoba</td>\n",
              "      <td>6</td>\n",
              "      <td>0</td>\n",
              "    </tr>\n",
              "    <tr>\n",
              "      <th>...</th>\n",
              "      <td>...</td>\n",
              "      <td>...</td>\n",
              "      <td>...</td>\n",
              "      <td>...</td>\n",
              "      <td>...</td>\n",
              "      <td>...</td>\n",
              "      <td>...</td>\n",
              "      <td>...</td>\n",
              "    </tr>\n",
              "    <tr>\n",
              "      <th>466</th>\n",
              "      <td>16</td>\n",
              "      <td>4</td>\n",
              "      <td>18</td>\n",
              "      <td>47</td>\n",
              "      <td>no</td>\n",
              "      <td>Tucumán</td>\n",
              "      <td>24</td>\n",
              "      <td>1</td>\n",
              "    </tr>\n",
              "    <tr>\n",
              "      <th>121</th>\n",
              "      <td>28</td>\n",
              "      <td>20</td>\n",
              "      <td>51</td>\n",
              "      <td>49</td>\n",
              "      <td>ideation</td>\n",
              "      <td>Córdoba</td>\n",
              "      <td>6</td>\n",
              "      <td>0</td>\n",
              "    </tr>\n",
              "    <tr>\n",
              "      <th>1044</th>\n",
              "      <td>60</td>\n",
              "      <td>46</td>\n",
              "      <td>60</td>\n",
              "      <td>31</td>\n",
              "      <td>yes</td>\n",
              "      <td>Córdoba</td>\n",
              "      <td>6</td>\n",
              "      <td>2</td>\n",
              "    </tr>\n",
              "    <tr>\n",
              "      <th>1095</th>\n",
              "      <td>51</td>\n",
              "      <td>41</td>\n",
              "      <td>80</td>\n",
              "      <td>28</td>\n",
              "      <td>yes</td>\n",
              "      <td>Córdoba</td>\n",
              "      <td>6</td>\n",
              "      <td>2</td>\n",
              "    </tr>\n",
              "    <tr>\n",
              "      <th>860</th>\n",
              "      <td>15</td>\n",
              "      <td>11</td>\n",
              "      <td>28</td>\n",
              "      <td>34</td>\n",
              "      <td>no</td>\n",
              "      <td>Santa Fe</td>\n",
              "      <td>21</td>\n",
              "      <td>1</td>\n",
              "    </tr>\n",
              "  </tbody>\n",
              "</table>\n",
              "<p>770 rows × 8 columns</p>\n",
              "</div>\n",
              "    <div class=\"colab-df-buttons\">\n",
              "\n",
              "  <div class=\"colab-df-container\">\n",
              "    <button class=\"colab-df-convert\" onclick=\"convertToInteractive('df-41fff962-fdc5-459a-b92a-11ddde56dd70')\"\n",
              "            title=\"Convert this dataframe to an interactive table.\"\n",
              "            style=\"display:none;\">\n",
              "\n",
              "  <svg xmlns=\"http://www.w3.org/2000/svg\" height=\"24px\" viewBox=\"0 -960 960 960\">\n",
              "    <path d=\"M120-120v-720h720v720H120Zm60-500h600v-160H180v160Zm220 220h160v-160H400v160Zm0 220h160v-160H400v160ZM180-400h160v-160H180v160Zm440 0h160v-160H620v160ZM180-180h160v-160H180v160Zm440 0h160v-160H620v160Z\"/>\n",
              "  </svg>\n",
              "    </button>\n",
              "\n",
              "  <style>\n",
              "    .colab-df-container {\n",
              "      display:flex;\n",
              "      gap: 12px;\n",
              "    }\n",
              "\n",
              "    .colab-df-convert {\n",
              "      background-color: #E8F0FE;\n",
              "      border: none;\n",
              "      border-radius: 50%;\n",
              "      cursor: pointer;\n",
              "      display: none;\n",
              "      fill: #1967D2;\n",
              "      height: 32px;\n",
              "      padding: 0 0 0 0;\n",
              "      width: 32px;\n",
              "    }\n",
              "\n",
              "    .colab-df-convert:hover {\n",
              "      background-color: #E2EBFA;\n",
              "      box-shadow: 0px 1px 2px rgba(60, 64, 67, 0.3), 0px 1px 3px 1px rgba(60, 64, 67, 0.15);\n",
              "      fill: #174EA6;\n",
              "    }\n",
              "\n",
              "    .colab-df-buttons div {\n",
              "      margin-bottom: 4px;\n",
              "    }\n",
              "\n",
              "    [theme=dark] .colab-df-convert {\n",
              "      background-color: #3B4455;\n",
              "      fill: #D2E3FC;\n",
              "    }\n",
              "\n",
              "    [theme=dark] .colab-df-convert:hover {\n",
              "      background-color: #434B5C;\n",
              "      box-shadow: 0px 1px 3px 1px rgba(0, 0, 0, 0.15);\n",
              "      filter: drop-shadow(0px 1px 2px rgba(0, 0, 0, 0.3));\n",
              "      fill: #FFFFFF;\n",
              "    }\n",
              "  </style>\n",
              "\n",
              "    <script>\n",
              "      const buttonEl =\n",
              "        document.querySelector('#df-41fff962-fdc5-459a-b92a-11ddde56dd70 button.colab-df-convert');\n",
              "      buttonEl.style.display =\n",
              "        google.colab.kernel.accessAllowed ? 'block' : 'none';\n",
              "\n",
              "      async function convertToInteractive(key) {\n",
              "        const element = document.querySelector('#df-41fff962-fdc5-459a-b92a-11ddde56dd70');\n",
              "        const dataTable =\n",
              "          await google.colab.kernel.invokeFunction('convertToInteractive',\n",
              "                                                    [key], {});\n",
              "        if (!dataTable) return;\n",
              "\n",
              "        const docLinkHtml = 'Like what you see? Visit the ' +\n",
              "          '<a target=\"_blank\" href=https://colab.research.google.com/notebooks/data_table.ipynb>data table notebook</a>'\n",
              "          + ' to learn more about interactive tables.';\n",
              "        element.innerHTML = '';\n",
              "        dataTable['output_type'] = 'display_data';\n",
              "        await google.colab.output.renderOutput(dataTable, element);\n",
              "        const docLink = document.createElement('div');\n",
              "        docLink.innerHTML = docLinkHtml;\n",
              "        element.appendChild(docLink);\n",
              "      }\n",
              "    </script>\n",
              "  </div>\n",
              "\n",
              "\n",
              "<div id=\"df-f274f37f-b865-4233-85eb-38b18cdeb2e6\">\n",
              "  <button class=\"colab-df-quickchart\" onclick=\"quickchart('df-f274f37f-b865-4233-85eb-38b18cdeb2e6')\"\n",
              "            title=\"Suggest charts.\"\n",
              "            style=\"display:none;\">\n",
              "\n",
              "<svg xmlns=\"http://www.w3.org/2000/svg\" height=\"24px\"viewBox=\"0 0 24 24\"\n",
              "     width=\"24px\">\n",
              "    <g>\n",
              "        <path d=\"M19 3H5c-1.1 0-2 .9-2 2v14c0 1.1.9 2 2 2h14c1.1 0 2-.9 2-2V5c0-1.1-.9-2-2-2zM9 17H7v-7h2v7zm4 0h-2V7h2v10zm4 0h-2v-4h2v4z\"/>\n",
              "    </g>\n",
              "</svg>\n",
              "  </button>\n",
              "\n",
              "<style>\n",
              "  .colab-df-quickchart {\n",
              "    background-color: #E8F0FE;\n",
              "    border: none;\n",
              "    border-radius: 50%;\n",
              "    cursor: pointer;\n",
              "    display: none;\n",
              "    fill: #1967D2;\n",
              "    height: 32px;\n",
              "    padding: 0 0 0 0;\n",
              "    width: 32px;\n",
              "  }\n",
              "\n",
              "  .colab-df-quickchart:hover {\n",
              "    background-color: #E2EBFA;\n",
              "    box-shadow: 0px 1px 2px rgba(60, 64, 67, 0.3), 0px 1px 3px 1px rgba(60, 64, 67, 0.15);\n",
              "    fill: #174EA6;\n",
              "  }\n",
              "\n",
              "  [theme=dark] .colab-df-quickchart {\n",
              "    background-color: #3B4455;\n",
              "    fill: #D2E3FC;\n",
              "  }\n",
              "\n",
              "  [theme=dark] .colab-df-quickchart:hover {\n",
              "    background-color: #434B5C;\n",
              "    box-shadow: 0px 1px 3px 1px rgba(0, 0, 0, 0.15);\n",
              "    filter: drop-shadow(0px 1px 2px rgba(0, 0, 0, 0.3));\n",
              "    fill: #FFFFFF;\n",
              "  }\n",
              "</style>\n",
              "\n",
              "  <script>\n",
              "    async function quickchart(key) {\n",
              "      const charts = await google.colab.kernel.invokeFunction(\n",
              "          'suggestCharts', [key], {});\n",
              "    }\n",
              "    (() => {\n",
              "      let quickchartButtonEl =\n",
              "        document.querySelector('#df-f274f37f-b865-4233-85eb-38b18cdeb2e6 button');\n",
              "      quickchartButtonEl.style.display =\n",
              "        google.colab.kernel.accessAllowed ? 'block' : 'none';\n",
              "    })();\n",
              "  </script>\n",
              "</div>\n",
              "    </div>\n",
              "  </div>\n"
            ]
          },
          "metadata": {},
          "execution_count": 11
        }
      ]
    },
    {
      "cell_type": "code",
      "source": [
        "# Definir características (X) y etiquetas (y) para entrenamiento y prueba\n",
        "X_train = df_training.drop(['PROVINCE', 'COD_PROV', 'SUIC ATTEMPT HISTORY', 'SUIC ATTEMPT_COD'], axis=1)\n",
        "y_train = df_training['COD_PROV']\n",
        "X_test = df_testing.drop(['PROVINCE', 'COD_PROV', 'SUIC ATTEMPT HISTORY', 'SUIC ATTEMPT_COD'], axis=1)\n",
        "y_test = df_testing['COD_PROV']"
      ],
      "metadata": {
        "id": "CYw4mni9F749"
      },
      "id": "CYw4mni9F749",
      "execution_count": 12,
      "outputs": []
    },
    {
      "cell_type": "code",
      "source": [
        "# Crear y entrenar el modelo de regresión logística\n",
        "model = LogisticRegression()\n",
        "model.fit(X_train, y_train)"
      ],
      "metadata": {
        "colab": {
          "base_uri": "https://localhost:8080/",
          "height": 213
        },
        "id": "Y99IuncnGSh_",
        "outputId": "2855c829-f83a-4d72-d261-01353d5884fc"
      },
      "id": "Y99IuncnGSh_",
      "execution_count": 13,
      "outputs": [
        {
          "output_type": "stream",
          "name": "stderr",
          "text": [
            "/usr/local/lib/python3.10/dist-packages/sklearn/linear_model/_logistic.py:458: ConvergenceWarning: lbfgs failed to converge (status=1):\n",
            "STOP: TOTAL NO. of ITERATIONS REACHED LIMIT.\n",
            "\n",
            "Increase the number of iterations (max_iter) or scale the data as shown in:\n",
            "    https://scikit-learn.org/stable/modules/preprocessing.html\n",
            "Please also refer to the documentation for alternative solver options:\n",
            "    https://scikit-learn.org/stable/modules/linear_model.html#logistic-regression\n",
            "  n_iter_i = _check_optimize_result(\n"
          ]
        },
        {
          "output_type": "execute_result",
          "data": {
            "text/plain": [
              "LogisticRegression()"
            ],
            "text/html": [
              "<style>#sk-container-id-1 {color: black;background-color: white;}#sk-container-id-1 pre{padding: 0;}#sk-container-id-1 div.sk-toggleable {background-color: white;}#sk-container-id-1 label.sk-toggleable__label {cursor: pointer;display: block;width: 100%;margin-bottom: 0;padding: 0.3em;box-sizing: border-box;text-align: center;}#sk-container-id-1 label.sk-toggleable__label-arrow:before {content: \"▸\";float: left;margin-right: 0.25em;color: #696969;}#sk-container-id-1 label.sk-toggleable__label-arrow:hover:before {color: black;}#sk-container-id-1 div.sk-estimator:hover label.sk-toggleable__label-arrow:before {color: black;}#sk-container-id-1 div.sk-toggleable__content {max-height: 0;max-width: 0;overflow: hidden;text-align: left;background-color: #f0f8ff;}#sk-container-id-1 div.sk-toggleable__content pre {margin: 0.2em;color: black;border-radius: 0.25em;background-color: #f0f8ff;}#sk-container-id-1 input.sk-toggleable__control:checked~div.sk-toggleable__content {max-height: 200px;max-width: 100%;overflow: auto;}#sk-container-id-1 input.sk-toggleable__control:checked~label.sk-toggleable__label-arrow:before {content: \"▾\";}#sk-container-id-1 div.sk-estimator input.sk-toggleable__control:checked~label.sk-toggleable__label {background-color: #d4ebff;}#sk-container-id-1 div.sk-label input.sk-toggleable__control:checked~label.sk-toggleable__label {background-color: #d4ebff;}#sk-container-id-1 input.sk-hidden--visually {border: 0;clip: rect(1px 1px 1px 1px);clip: rect(1px, 1px, 1px, 1px);height: 1px;margin: -1px;overflow: hidden;padding: 0;position: absolute;width: 1px;}#sk-container-id-1 div.sk-estimator {font-family: monospace;background-color: #f0f8ff;border: 1px dotted black;border-radius: 0.25em;box-sizing: border-box;margin-bottom: 0.5em;}#sk-container-id-1 div.sk-estimator:hover {background-color: #d4ebff;}#sk-container-id-1 div.sk-parallel-item::after {content: \"\";width: 100%;border-bottom: 1px solid gray;flex-grow: 1;}#sk-container-id-1 div.sk-label:hover label.sk-toggleable__label {background-color: #d4ebff;}#sk-container-id-1 div.sk-serial::before {content: \"\";position: absolute;border-left: 1px solid gray;box-sizing: border-box;top: 0;bottom: 0;left: 50%;z-index: 0;}#sk-container-id-1 div.sk-serial {display: flex;flex-direction: column;align-items: center;background-color: white;padding-right: 0.2em;padding-left: 0.2em;position: relative;}#sk-container-id-1 div.sk-item {position: relative;z-index: 1;}#sk-container-id-1 div.sk-parallel {display: flex;align-items: stretch;justify-content: center;background-color: white;position: relative;}#sk-container-id-1 div.sk-item::before, #sk-container-id-1 div.sk-parallel-item::before {content: \"\";position: absolute;border-left: 1px solid gray;box-sizing: border-box;top: 0;bottom: 0;left: 50%;z-index: -1;}#sk-container-id-1 div.sk-parallel-item {display: flex;flex-direction: column;z-index: 1;position: relative;background-color: white;}#sk-container-id-1 div.sk-parallel-item:first-child::after {align-self: flex-end;width: 50%;}#sk-container-id-1 div.sk-parallel-item:last-child::after {align-self: flex-start;width: 50%;}#sk-container-id-1 div.sk-parallel-item:only-child::after {width: 0;}#sk-container-id-1 div.sk-dashed-wrapped {border: 1px dashed gray;margin: 0 0.4em 0.5em 0.4em;box-sizing: border-box;padding-bottom: 0.4em;background-color: white;}#sk-container-id-1 div.sk-label label {font-family: monospace;font-weight: bold;display: inline-block;line-height: 1.2em;}#sk-container-id-1 div.sk-label-container {text-align: center;}#sk-container-id-1 div.sk-container {/* jupyter's `normalize.less` sets `[hidden] { display: none; }` but bootstrap.min.css set `[hidden] { display: none !important; }` so we also need the `!important` here to be able to override the default hidden behavior on the sphinx rendered scikit-learn.org. See: https://github.com/scikit-learn/scikit-learn/issues/21755 */display: inline-block !important;position: relative;}#sk-container-id-1 div.sk-text-repr-fallback {display: none;}</style><div id=\"sk-container-id-1\" class=\"sk-top-container\"><div class=\"sk-text-repr-fallback\"><pre>LogisticRegression()</pre><b>In a Jupyter environment, please rerun this cell to show the HTML representation or trust the notebook. <br />On GitHub, the HTML representation is unable to render, please try loading this page with nbviewer.org.</b></div><div class=\"sk-container\" hidden><div class=\"sk-item\"><div class=\"sk-estimator sk-toggleable\"><input class=\"sk-toggleable__control sk-hidden--visually\" id=\"sk-estimator-id-1\" type=\"checkbox\" checked><label for=\"sk-estimator-id-1\" class=\"sk-toggleable__label sk-toggleable__label-arrow\">LogisticRegression</label><div class=\"sk-toggleable__content\"><pre>LogisticRegression()</pre></div></div></div></div></div>"
            ]
          },
          "metadata": {},
          "execution_count": 13
        }
      ]
    },
    {
      "cell_type": "code",
      "source": [
        "# Predecir etiquetas en los datos de prueba\n",
        "y_pred = model.predict(X_test)"
      ],
      "metadata": {
        "id": "rQVm23vwGZNd"
      },
      "id": "rQVm23vwGZNd",
      "execution_count": 14,
      "outputs": []
    },
    {
      "cell_type": "code",
      "source": [
        "# Obtener las clases únicas de las etiquetas de prueba\n",
        "unique_classes = df_training['COD_PROV'].unique()"
      ],
      "metadata": {
        "id": "6J4B19yiIqRp"
      },
      "id": "6J4B19yiIqRp",
      "execution_count": 16,
      "outputs": []
    },
    {
      "cell_type": "code",
      "source": [
        "# Evaluar el modelo con etiquetas específicas\n",
        "print(classification_report(y_test, y_pred, labels=unique_classes, target_names=province_label_encoder.classes_, zero_division=1))"
      ],
      "metadata": {
        "colab": {
          "base_uri": "https://localhost:8080/"
        },
        "id": "yOKwDmKLGccy",
        "outputId": "c52c34cf-e2c5-4563-c6f8-07fcb2f83fa4"
      },
      "id": "yOKwDmKLGccy",
      "execution_count": 18,
      "outputs": [
        {
          "output_type": "stream",
          "name": "stdout",
          "text": [
            "                             precision    recall  f1-score   support\n",
            "\n",
            "     Buenos Aires provincia       0.24      0.59      0.34        61\n",
            "CABA (Buenos Aires capital)       0.00      0.00      0.00        67\n",
            "                  Catamarca       0.33      0.67      0.45        86\n",
            "                      Chaco       1.00      0.00      0.00         1\n",
            "                     Chubut       1.00      0.00      0.00         7\n",
            "                 Corrientes       1.00      0.00      0.00         5\n",
            "                    Córdoba       1.00      0.00      0.00         3\n",
            "                 Entre Ríos       1.00      0.00      0.00        35\n",
            "                    Formosa       1.00      0.00      0.00         4\n",
            "                      Jujuy       1.00      0.00      0.00         7\n",
            "                   La Pampa       1.00      0.00      0.00         3\n",
            "                   La Rioja       1.00      0.00      0.00        13\n",
            "                    Mendoza       1.00      0.00      0.00         5\n",
            "                   Misiones       1.00      0.00      0.00        12\n",
            "                    Neuquén       1.00      0.00      0.00         6\n",
            "                       Otro       1.00      0.00      0.00         4\n",
            "                  Río Negro       0.00      1.00      0.00         0\n",
            "                      Salta       1.00      0.00      0.00         1\n",
            "                   San Juan       1.00      0.00      0.00         1\n",
            "                   San Luis       1.00      0.00      0.00         2\n",
            "                 Santa Cruz       1.00      1.00      1.00         0\n",
            "                   Santa Fe       1.00      0.00      0.00         4\n",
            "        Santiago del Estero       0.00      0.00      0.00         1\n",
            "           Tierra del Fuego       1.00      1.00      1.00         0\n",
            "                    Tucumán       1.00      0.00      0.00         1\n",
            "\n",
            "                  micro avg       0.28      0.29      0.29       329\n",
            "                  macro avg       0.82      0.17      0.11       329\n",
            "               weighted avg       0.48      0.29      0.18       329\n",
            "\n"
          ]
        },
        {
          "output_type": "stream",
          "name": "stderr",
          "text": [
            "/usr/local/lib/python3.10/dist-packages/sklearn/metrics/_classification.py:2326: UserWarning: labels size, 25, does not match size of target_names, 26\n",
            "  warnings.warn(\n"
          ]
        }
      ]
    },
    {
      "cell_type": "code",
      "execution_count": null,
      "id": "490c745b-82ac-4f31-a034-bc7991f7c89a",
      "metadata": {
        "id": "490c745b-82ac-4f31-a034-bc7991f7c89a"
      },
      "outputs": [],
      "source": [
        "y = df['SUIC RISK']"
      ]
    },
    {
      "cell_type": "code",
      "execution_count": null,
      "id": "b81ee0bf-ff2a-42e5-92a3-5e97a1f65ef1",
      "metadata": {
        "id": "b81ee0bf-ff2a-42e5-92a3-5e97a1f65ef1"
      },
      "outputs": [],
      "source": [
        "df_features = ['DEPRESSION', 'ANXIETY STATE']"
      ]
    },
    {
      "cell_type": "code",
      "execution_count": null,
      "id": "7454b981-0d5e-4a0b-8ebf-804f1c8ed615",
      "metadata": {
        "id": "7454b981-0d5e-4a0b-8ebf-804f1c8ed615"
      },
      "outputs": [],
      "source": [
        "x = df[df_features]"
      ]
    },
    {
      "cell_type": "code",
      "execution_count": null,
      "id": "67787a69-1288-47a9-a13d-e8c88daf8db4",
      "metadata": {
        "id": "67787a69-1288-47a9-a13d-e8c88daf8db4",
        "outputId": "6ef601b5-2e62-40b6-b134-38152b125128"
      },
      "outputs": [
        {
          "data": {
            "text/html": [
              "<div>\n",
              "<style scoped>\n",
              "    .dataframe tbody tr th:only-of-type {\n",
              "        vertical-align: middle;\n",
              "    }\n",
              "\n",
              "    .dataframe tbody tr th {\n",
              "        vertical-align: top;\n",
              "    }\n",
              "\n",
              "    .dataframe thead th {\n",
              "        text-align: right;\n",
              "    }\n",
              "</style>\n",
              "<table border=\"1\" class=\"dataframe\">\n",
              "  <thead>\n",
              "    <tr style=\"text-align: right;\">\n",
              "      <th></th>\n",
              "      <th>DEPRESSION</th>\n",
              "      <th>ANXIETY STATE</th>\n",
              "    </tr>\n",
              "  </thead>\n",
              "  <tbody>\n",
              "    <tr>\n",
              "      <th>count</th>\n",
              "      <td>1100.000000</td>\n",
              "      <td>1100.000000</td>\n",
              "    </tr>\n",
              "    <tr>\n",
              "      <th>mean</th>\n",
              "      <td>15.695455</td>\n",
              "      <td>31.775455</td>\n",
              "    </tr>\n",
              "    <tr>\n",
              "      <th>std</th>\n",
              "      <td>11.101032</td>\n",
              "      <td>14.473519</td>\n",
              "    </tr>\n",
              "    <tr>\n",
              "      <th>min</th>\n",
              "      <td>0.000000</td>\n",
              "      <td>1.000000</td>\n",
              "    </tr>\n",
              "    <tr>\n",
              "      <th>25%</th>\n",
              "      <td>8.000000</td>\n",
              "      <td>21.000000</td>\n",
              "    </tr>\n",
              "    <tr>\n",
              "      <th>50%</th>\n",
              "      <td>13.000000</td>\n",
              "      <td>31.000000</td>\n",
              "    </tr>\n",
              "    <tr>\n",
              "      <th>75%</th>\n",
              "      <td>22.000000</td>\n",
              "      <td>42.000000</td>\n",
              "    </tr>\n",
              "    <tr>\n",
              "      <th>max</th>\n",
              "      <td>60.000000</td>\n",
              "      <td>66.000000</td>\n",
              "    </tr>\n",
              "  </tbody>\n",
              "</table>\n",
              "</div>"
            ],
            "text/plain": [
              "        DEPRESSION  ANXIETY STATE\n",
              "count  1100.000000    1100.000000\n",
              "mean     15.695455      31.775455\n",
              "std      11.101032      14.473519\n",
              "min       0.000000       1.000000\n",
              "25%       8.000000      21.000000\n",
              "50%      13.000000      31.000000\n",
              "75%      22.000000      42.000000\n",
              "max      60.000000      66.000000"
            ]
          },
          "execution_count": 8,
          "metadata": {},
          "output_type": "execute_result"
        }
      ],
      "source": [
        "x.describe()"
      ]
    },
    {
      "cell_type": "code",
      "execution_count": null,
      "id": "168497ca-61c8-4426-83cd-066a88abbc2f",
      "metadata": {
        "id": "168497ca-61c8-4426-83cd-066a88abbc2f",
        "outputId": "05fa083d-4644-4c48-c3df-222a97fbb604"
      },
      "outputs": [
        {
          "data": {
            "text/html": [
              "<div>\n",
              "<style scoped>\n",
              "    .dataframe tbody tr th:only-of-type {\n",
              "        vertical-align: middle;\n",
              "    }\n",
              "\n",
              "    .dataframe tbody tr th {\n",
              "        vertical-align: top;\n",
              "    }\n",
              "\n",
              "    .dataframe thead th {\n",
              "        text-align: right;\n",
              "    }\n",
              "</style>\n",
              "<table border=\"1\" class=\"dataframe\">\n",
              "  <thead>\n",
              "    <tr style=\"text-align: right;\">\n",
              "      <th></th>\n",
              "      <th>DEPRESSION</th>\n",
              "      <th>ANXIETY STATE</th>\n",
              "    </tr>\n",
              "  </thead>\n",
              "  <tbody>\n",
              "    <tr>\n",
              "      <th>0</th>\n",
              "      <td>21</td>\n",
              "      <td>54</td>\n",
              "    </tr>\n",
              "    <tr>\n",
              "      <th>1</th>\n",
              "      <td>26</td>\n",
              "      <td>34</td>\n",
              "    </tr>\n",
              "    <tr>\n",
              "      <th>2</th>\n",
              "      <td>8</td>\n",
              "      <td>33</td>\n",
              "    </tr>\n",
              "    <tr>\n",
              "      <th>3</th>\n",
              "      <td>27</td>\n",
              "      <td>42</td>\n",
              "    </tr>\n",
              "    <tr>\n",
              "      <th>4</th>\n",
              "      <td>1</td>\n",
              "      <td>11</td>\n",
              "    </tr>\n",
              "  </tbody>\n",
              "</table>\n",
              "</div>"
            ],
            "text/plain": [
              "   DEPRESSION  ANXIETY STATE\n",
              "0          21             54\n",
              "1          26             34\n",
              "2           8             33\n",
              "3          27             42\n",
              "4           1             11"
            ]
          },
          "execution_count": 9,
          "metadata": {},
          "output_type": "execute_result"
        }
      ],
      "source": [
        "x.head()"
      ]
    },
    {
      "cell_type": "code",
      "execution_count": null,
      "id": "b3867c6c-b433-4509-bec0-3724d8329fe8",
      "metadata": {
        "id": "b3867c6c-b433-4509-bec0-3724d8329fe8"
      },
      "outputs": [],
      "source": [
        "from sklearn.tree import DecisionTreeRegressor"
      ]
    },
    {
      "cell_type": "code",
      "execution_count": null,
      "id": "33893e92-68f4-45ea-8573-afe691237d65",
      "metadata": {
        "id": "33893e92-68f4-45ea-8573-afe691237d65"
      },
      "outputs": [],
      "source": [
        "df_model = DecisionTreeRegressor(random_state=1)"
      ]
    },
    {
      "cell_type": "code",
      "execution_count": null,
      "id": "0f01d85a-886b-4873-9435-64eb96de45cd",
      "metadata": {
        "id": "0f01d85a-886b-4873-9435-64eb96de45cd",
        "outputId": "5e7fab0c-1a0f-44ed-b316-58bb2ad69569"
      },
      "outputs": [
        {
          "data": {
            "text/html": [
              "<style>#sk-container-id-1 {color: black;background-color: white;}#sk-container-id-1 pre{padding: 0;}#sk-container-id-1 div.sk-toggleable {background-color: white;}#sk-container-id-1 label.sk-toggleable__label {cursor: pointer;display: block;width: 100%;margin-bottom: 0;padding: 0.3em;box-sizing: border-box;text-align: center;}#sk-container-id-1 label.sk-toggleable__label-arrow:before {content: \"▸\";float: left;margin-right: 0.25em;color: #696969;}#sk-container-id-1 label.sk-toggleable__label-arrow:hover:before {color: black;}#sk-container-id-1 div.sk-estimator:hover label.sk-toggleable__label-arrow:before {color: black;}#sk-container-id-1 div.sk-toggleable__content {max-height: 0;max-width: 0;overflow: hidden;text-align: left;background-color: #f0f8ff;}#sk-container-id-1 div.sk-toggleable__content pre {margin: 0.2em;color: black;border-radius: 0.25em;background-color: #f0f8ff;}#sk-container-id-1 input.sk-toggleable__control:checked~div.sk-toggleable__content {max-height: 200px;max-width: 100%;overflow: auto;}#sk-container-id-1 input.sk-toggleable__control:checked~label.sk-toggleable__label-arrow:before {content: \"▾\";}#sk-container-id-1 div.sk-estimator input.sk-toggleable__control:checked~label.sk-toggleable__label {background-color: #d4ebff;}#sk-container-id-1 div.sk-label input.sk-toggleable__control:checked~label.sk-toggleable__label {background-color: #d4ebff;}#sk-container-id-1 input.sk-hidden--visually {border: 0;clip: rect(1px 1px 1px 1px);clip: rect(1px, 1px, 1px, 1px);height: 1px;margin: -1px;overflow: hidden;padding: 0;position: absolute;width: 1px;}#sk-container-id-1 div.sk-estimator {font-family: monospace;background-color: #f0f8ff;border: 1px dotted black;border-radius: 0.25em;box-sizing: border-box;margin-bottom: 0.5em;}#sk-container-id-1 div.sk-estimator:hover {background-color: #d4ebff;}#sk-container-id-1 div.sk-parallel-item::after {content: \"\";width: 100%;border-bottom: 1px solid gray;flex-grow: 1;}#sk-container-id-1 div.sk-label:hover label.sk-toggleable__label {background-color: #d4ebff;}#sk-container-id-1 div.sk-serial::before {content: \"\";position: absolute;border-left: 1px solid gray;box-sizing: border-box;top: 0;bottom: 0;left: 50%;z-index: 0;}#sk-container-id-1 div.sk-serial {display: flex;flex-direction: column;align-items: center;background-color: white;padding-right: 0.2em;padding-left: 0.2em;position: relative;}#sk-container-id-1 div.sk-item {position: relative;z-index: 1;}#sk-container-id-1 div.sk-parallel {display: flex;align-items: stretch;justify-content: center;background-color: white;position: relative;}#sk-container-id-1 div.sk-item::before, #sk-container-id-1 div.sk-parallel-item::before {content: \"\";position: absolute;border-left: 1px solid gray;box-sizing: border-box;top: 0;bottom: 0;left: 50%;z-index: -1;}#sk-container-id-1 div.sk-parallel-item {display: flex;flex-direction: column;z-index: 1;position: relative;background-color: white;}#sk-container-id-1 div.sk-parallel-item:first-child::after {align-self: flex-end;width: 50%;}#sk-container-id-1 div.sk-parallel-item:last-child::after {align-self: flex-start;width: 50%;}#sk-container-id-1 div.sk-parallel-item:only-child::after {width: 0;}#sk-container-id-1 div.sk-dashed-wrapped {border: 1px dashed gray;margin: 0 0.4em 0.5em 0.4em;box-sizing: border-box;padding-bottom: 0.4em;background-color: white;}#sk-container-id-1 div.sk-label label {font-family: monospace;font-weight: bold;display: inline-block;line-height: 1.2em;}#sk-container-id-1 div.sk-label-container {text-align: center;}#sk-container-id-1 div.sk-container {/* jupyter's `normalize.less` sets `[hidden] { display: none; }` but bootstrap.min.css set `[hidden] { display: none !important; }` so we also need the `!important` here to be able to override the default hidden behavior on the sphinx rendered scikit-learn.org. See: https://github.com/scikit-learn/scikit-learn/issues/21755 */display: inline-block !important;position: relative;}#sk-container-id-1 div.sk-text-repr-fallback {display: none;}</style><div id=\"sk-container-id-1\" class=\"sk-top-container\"><div class=\"sk-text-repr-fallback\"><pre>DecisionTreeRegressor(random_state=1)</pre><b>In a Jupyter environment, please rerun this cell to show the HTML representation or trust the notebook. <br />On GitHub, the HTML representation is unable to render, please try loading this page with nbviewer.org.</b></div><div class=\"sk-container\" hidden><div class=\"sk-item\"><div class=\"sk-estimator sk-toggleable\"><input class=\"sk-toggleable__control sk-hidden--visually\" id=\"sk-estimator-id-1\" type=\"checkbox\" checked><label for=\"sk-estimator-id-1\" class=\"sk-toggleable__label sk-toggleable__label-arrow\">DecisionTreeRegressor</label><div class=\"sk-toggleable__content\"><pre>DecisionTreeRegressor(random_state=1)</pre></div></div></div></div></div>"
            ],
            "text/plain": [
              "DecisionTreeRegressor(random_state=1)"
            ]
          },
          "execution_count": 12,
          "metadata": {},
          "output_type": "execute_result"
        }
      ],
      "source": [
        "df_model.fit(x, y)"
      ]
    },
    {
      "cell_type": "code",
      "execution_count": null,
      "id": "96d94cb7-327c-4595-af07-4f0e1e337fe0",
      "metadata": {
        "id": "96d94cb7-327c-4595-af07-4f0e1e337fe0",
        "outputId": "5685adbe-57ff-42e3-b342-056e6e2f2d04"
      },
      "outputs": [
        {
          "name": "stdout",
          "output_type": "stream",
          "text": [
            "Informar el riesgo de suicidio de las siguientes personas\n",
            "   DEPRESSION  ANXIETY STATE\n",
            "0          21             54\n",
            "1          26             34\n",
            "2           8             33\n",
            "3          27             42\n",
            "4           1             11\n",
            "El riesgo de suicidio es:\n",
            "[37. 46. 27. 70. 19.]\n"
          ]
        }
      ],
      "source": [
        "print(\"Informar el riesgo de suicidio de las siguientes personas\")\n",
        "print(x.head())\n",
        "print(\"El riesgo de suicidio es:\")\n",
        "print(df_model.predict(x.head()))"
      ]
    },
    {
      "cell_type": "code",
      "execution_count": null,
      "id": "0ddca252-8023-43f1-b73a-1f9a6d2155a1",
      "metadata": {
        "id": "0ddca252-8023-43f1-b73a-1f9a6d2155a1"
      },
      "outputs": [],
      "source": [
        "from sklearn.metrics import mean_absolute_error"
      ]
    },
    {
      "cell_type": "code",
      "execution_count": null,
      "id": "85bc30eb-35da-490e-a203-c950dd093cf3",
      "metadata": {
        "id": "85bc30eb-35da-490e-a203-c950dd093cf3"
      },
      "outputs": [],
      "source": [
        "pred_suicrisk = df_model.predict(x)"
      ]
    },
    {
      "cell_type": "code",
      "execution_count": null,
      "id": "40de819c-51dc-47ea-8653-81c05432dc52",
      "metadata": {
        "id": "40de819c-51dc-47ea-8653-81c05432dc52",
        "outputId": "ee16fd39-05ac-4007-d2ae-e7f941461518"
      },
      "outputs": [
        {
          "data": {
            "text/plain": [
              "3.245757575757576"
            ]
          },
          "execution_count": 16,
          "metadata": {},
          "output_type": "execute_result"
        }
      ],
      "source": [
        "mean_absolute_error(y, pred_suicrisk)"
      ]
    },
    {
      "cell_type": "code",
      "execution_count": null,
      "id": "763bd169-7059-489d-a2cf-184d4f17c2c4",
      "metadata": {
        "id": "763bd169-7059-489d-a2cf-184d4f17c2c4"
      },
      "outputs": [],
      "source": [
        "from sklearn.model_selection import train_test_split"
      ]
    },
    {
      "cell_type": "code",
      "execution_count": null,
      "id": "75a54575-93dc-4c7a-aaa4-02cfe5891c8e",
      "metadata": {
        "id": "75a54575-93dc-4c7a-aaa4-02cfe5891c8e"
      },
      "outputs": [],
      "source": [
        "train_x, val_x, train_y, val_y = train_test_split(x, y, random_state = 0)"
      ]
    },
    {
      "cell_type": "code",
      "execution_count": null,
      "id": "3e369cd1-0358-4c27-9784-4d4f98554889",
      "metadata": {
        "id": "3e369cd1-0358-4c27-9784-4d4f98554889"
      },
      "outputs": [],
      "source": [
        "df_model = DecisionTreeRegressor()"
      ]
    },
    {
      "cell_type": "code",
      "execution_count": null,
      "id": "30f33290-745f-493d-a4cb-7ba290bbebd6",
      "metadata": {
        "id": "30f33290-745f-493d-a4cb-7ba290bbebd6",
        "outputId": "cb32de0d-6407-4e0e-a908-1b022cba4aea"
      },
      "outputs": [
        {
          "data": {
            "text/html": [
              "<style>#sk-container-id-2 {color: black;background-color: white;}#sk-container-id-2 pre{padding: 0;}#sk-container-id-2 div.sk-toggleable {background-color: white;}#sk-container-id-2 label.sk-toggleable__label {cursor: pointer;display: block;width: 100%;margin-bottom: 0;padding: 0.3em;box-sizing: border-box;text-align: center;}#sk-container-id-2 label.sk-toggleable__label-arrow:before {content: \"▸\";float: left;margin-right: 0.25em;color: #696969;}#sk-container-id-2 label.sk-toggleable__label-arrow:hover:before {color: black;}#sk-container-id-2 div.sk-estimator:hover label.sk-toggleable__label-arrow:before {color: black;}#sk-container-id-2 div.sk-toggleable__content {max-height: 0;max-width: 0;overflow: hidden;text-align: left;background-color: #f0f8ff;}#sk-container-id-2 div.sk-toggleable__content pre {margin: 0.2em;color: black;border-radius: 0.25em;background-color: #f0f8ff;}#sk-container-id-2 input.sk-toggleable__control:checked~div.sk-toggleable__content {max-height: 200px;max-width: 100%;overflow: auto;}#sk-container-id-2 input.sk-toggleable__control:checked~label.sk-toggleable__label-arrow:before {content: \"▾\";}#sk-container-id-2 div.sk-estimator input.sk-toggleable__control:checked~label.sk-toggleable__label {background-color: #d4ebff;}#sk-container-id-2 div.sk-label input.sk-toggleable__control:checked~label.sk-toggleable__label {background-color: #d4ebff;}#sk-container-id-2 input.sk-hidden--visually {border: 0;clip: rect(1px 1px 1px 1px);clip: rect(1px, 1px, 1px, 1px);height: 1px;margin: -1px;overflow: hidden;padding: 0;position: absolute;width: 1px;}#sk-container-id-2 div.sk-estimator {font-family: monospace;background-color: #f0f8ff;border: 1px dotted black;border-radius: 0.25em;box-sizing: border-box;margin-bottom: 0.5em;}#sk-container-id-2 div.sk-estimator:hover {background-color: #d4ebff;}#sk-container-id-2 div.sk-parallel-item::after {content: \"\";width: 100%;border-bottom: 1px solid gray;flex-grow: 1;}#sk-container-id-2 div.sk-label:hover label.sk-toggleable__label {background-color: #d4ebff;}#sk-container-id-2 div.sk-serial::before {content: \"\";position: absolute;border-left: 1px solid gray;box-sizing: border-box;top: 0;bottom: 0;left: 50%;z-index: 0;}#sk-container-id-2 div.sk-serial {display: flex;flex-direction: column;align-items: center;background-color: white;padding-right: 0.2em;padding-left: 0.2em;position: relative;}#sk-container-id-2 div.sk-item {position: relative;z-index: 1;}#sk-container-id-2 div.sk-parallel {display: flex;align-items: stretch;justify-content: center;background-color: white;position: relative;}#sk-container-id-2 div.sk-item::before, #sk-container-id-2 div.sk-parallel-item::before {content: \"\";position: absolute;border-left: 1px solid gray;box-sizing: border-box;top: 0;bottom: 0;left: 50%;z-index: -1;}#sk-container-id-2 div.sk-parallel-item {display: flex;flex-direction: column;z-index: 1;position: relative;background-color: white;}#sk-container-id-2 div.sk-parallel-item:first-child::after {align-self: flex-end;width: 50%;}#sk-container-id-2 div.sk-parallel-item:last-child::after {align-self: flex-start;width: 50%;}#sk-container-id-2 div.sk-parallel-item:only-child::after {width: 0;}#sk-container-id-2 div.sk-dashed-wrapped {border: 1px dashed gray;margin: 0 0.4em 0.5em 0.4em;box-sizing: border-box;padding-bottom: 0.4em;background-color: white;}#sk-container-id-2 div.sk-label label {font-family: monospace;font-weight: bold;display: inline-block;line-height: 1.2em;}#sk-container-id-2 div.sk-label-container {text-align: center;}#sk-container-id-2 div.sk-container {/* jupyter's `normalize.less` sets `[hidden] { display: none; }` but bootstrap.min.css set `[hidden] { display: none !important; }` so we also need the `!important` here to be able to override the default hidden behavior on the sphinx rendered scikit-learn.org. See: https://github.com/scikit-learn/scikit-learn/issues/21755 */display: inline-block !important;position: relative;}#sk-container-id-2 div.sk-text-repr-fallback {display: none;}</style><div id=\"sk-container-id-2\" class=\"sk-top-container\"><div class=\"sk-text-repr-fallback\"><pre>DecisionTreeRegressor()</pre><b>In a Jupyter environment, please rerun this cell to show the HTML representation or trust the notebook. <br />On GitHub, the HTML representation is unable to render, please try loading this page with nbviewer.org.</b></div><div class=\"sk-container\" hidden><div class=\"sk-item\"><div class=\"sk-estimator sk-toggleable\"><input class=\"sk-toggleable__control sk-hidden--visually\" id=\"sk-estimator-id-2\" type=\"checkbox\" checked><label for=\"sk-estimator-id-2\" class=\"sk-toggleable__label sk-toggleable__label-arrow\">DecisionTreeRegressor</label><div class=\"sk-toggleable__content\"><pre>DecisionTreeRegressor()</pre></div></div></div></div></div>"
            ],
            "text/plain": [
              "DecisionTreeRegressor()"
            ]
          },
          "execution_count": 21,
          "metadata": {},
          "output_type": "execute_result"
        }
      ],
      "source": [
        "df_model.fit(train_x, train_y)"
      ]
    },
    {
      "cell_type": "code",
      "execution_count": null,
      "id": "c7f9aed8-0146-42ce-b619-c9cfa845feaf",
      "metadata": {
        "id": "c7f9aed8-0146-42ce-b619-c9cfa845feaf"
      },
      "outputs": [],
      "source": [
        "val_pred = df_model.predict(val_x)"
      ]
    },
    {
      "cell_type": "code",
      "execution_count": null,
      "id": "e9501949-068f-4ad3-a627-607a86ee60d7",
      "metadata": {
        "id": "e9501949-068f-4ad3-a627-607a86ee60d7",
        "outputId": "c30d03e9-8f7c-4357-9b3f-456d4b7893ad"
      },
      "outputs": [
        {
          "name": "stdout",
          "output_type": "stream",
          "text": [
            "10.65139393939394\n"
          ]
        }
      ],
      "source": [
        "print(mean_absolute_error(val_y, val_pred))"
      ]
    }
  ],
  "metadata": {
    "kernelspec": {
      "display_name": "anaconda-panel-2023.05-py310",
      "language": "python",
      "name": "conda-env-anaconda-panel-2023.05-py310-py"
    },
    "language_info": {
      "codemirror_mode": {
        "name": "ipython",
        "version": 3
      },
      "file_extension": ".py",
      "mimetype": "text/x-python",
      "name": "python",
      "nbconvert_exporter": "python",
      "pygments_lexer": "ipython3",
      "version": "3.11.4"
    },
    "toc-autonumbering": false,
    "toc-showcode": false,
    "toc-showmarkdowntxt": false,
    "colab": {
      "provenance": [],
      "include_colab_link": true
    }
  },
  "nbformat": 4,
  "nbformat_minor": 5
}